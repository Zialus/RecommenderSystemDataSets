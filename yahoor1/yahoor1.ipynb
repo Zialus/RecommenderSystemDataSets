{
 "cells": [
  {
   "cell_type": "code",
   "execution_count": 1,
   "metadata": {},
   "outputs": [
    {
     "name": "stdout",
     "output_type": "stream",
     "text": [
      "CPU times: user 426 ms, sys: 39.7 ms, total: 466 ms\n",
      "Wall time: 464 ms\n"
     ]
    }
   ],
   "source": [
    "%%time\n",
    "\n",
    "import numpy as np\n",
    "from scipy import sparse\n",
    "import pandas as pd\n",
    "from sklearn.model_selection import train_test_split"
   ]
  },
  {
   "cell_type": "code",
   "execution_count": 2,
   "metadata": {},
   "outputs": [
    {
     "name": "stdout",
     "output_type": "stream",
     "text": [
      "CPU times: user 30.3 s, sys: 14.2 s, total: 44.5 s\n",
      "Wall time: 24.3 s\n",
      "CPU times: user 30.3 s, sys: 14.2 s, total: 44.5 s\n",
      "Wall time: 24.3 s\n"
     ]
    }
   ],
   "source": [
    "%%time\n",
    "\n",
    "data_file = \"ydatamusic.txt\"\n",
    "\n",
    "m = 1948882\n",
    "n = 98213\n",
    "nnz_train = 103723717\n",
    "nnz_test = 11524858\n",
    "\n",
    "%time test_data = pd.read_csv(data_file, delimiter = \"\\t\",header=None)\n",
    "user = test_data[0].values\n",
    "item = test_data[1].values\n",
    "rating = test_data[2].values"
   ]
  },
  {
   "cell_type": "code",
   "execution_count": 3,
   "metadata": {},
   "outputs": [
    {
     "name": "stdout",
     "output_type": "stream",
     "text": [
      "[      1       1       1 ... 1948882 1948882 1948882]\n",
      "[   1    2    3 ...  178  729 2191]\n",
      "[ 90 100  90 ...  90  90  90]\n",
      "\n",
      "1\n",
      "1\n",
      "0\n",
      "\n",
      "1948882\n",
      "98213\n",
      "100\n",
      "\n",
      "1947156\n",
      "98213\n",
      "101\n",
      "\n",
      "115248575\n"
     ]
    }
   ],
   "source": [
    "print(user)\n",
    "print(item)\n",
    "print(rating)\n",
    "print(\"\")\n",
    "print(np.min(user))\n",
    "print(np.min(item))\n",
    "print(np.min(rating))\n",
    "print(\"\")\n",
    "print(np.max(user))\n",
    "print(np.max(item))\n",
    "print(np.max(rating))\n",
    "print(\"\")\n",
    "print(np.unique(user).size)\n",
    "print(np.unique(item).size)\n",
    "print(np.unique(rating).size)\n",
    "print(\"\")\n",
    "print(user.size)\n",
    "\n",
    "assert np.max(user) == m\n",
    "assert np.max(item) == n\n",
    "assert user.size == nnz_train + nnz_test"
   ]
  },
  {
   "cell_type": "code",
   "execution_count": 4,
   "metadata": {},
   "outputs": [
    {
     "name": "stdout",
     "output_type": "stream",
     "text": [
      "CPU times: user 17.9 s, sys: 7.21 s, total: 25.1 s\n",
      "Wall time: 19.5 s\n"
     ]
    }
   ],
   "source": [
    "%%time\n",
    "\n",
    "user_item = np.vstack((user, item))\n",
    "\n",
    "user_item_train, user_item_test, rating_train, rating_test = train_test_split(user_item.T,\n",
    "                                                                              rating,\n",
    "                                                                              test_size=nnz_test,\n",
    "                                                                              random_state=42)"
   ]
  },
  {
   "cell_type": "code",
   "execution_count": 5,
   "metadata": {},
   "outputs": [
    {
     "name": "stdout",
     "output_type": "stream",
     "text": [
      "CPU times: user 33.9 s, sys: 628 ms, total: 34.5 s\n",
      "Wall time: 34.3 s\n"
     ]
    }
   ],
   "source": [
    "%%time\n",
    "\n",
    "#1-based to 0-based\n",
    "R_test_coo = sparse.coo_matrix((rating_test, (user_item_test[:, 0] - 1, user_item_test[:, 1] - 1)))\n",
    "assert R_test_coo.nnz == nnz_test\n",
    "\n",
    "outfile_test = open(\"test.txt\", 'w')\n",
    "for i in range(nnz_test):\n",
    "    outfile_test.write(str((user_item_test[i, 0])) + \" \" + str((user_item_test[i, 1])) + \" \" + str(rating_test[i]) + \"\\n\")"
   ]
  },
  {
   "cell_type": "code",
   "execution_count": 6,
   "metadata": {},
   "outputs": [
    {
     "name": "stdout",
     "output_type": "stream",
     "text": [
      "CPU times: user 11.7 ms, sys: 247 ms, total: 259 ms\n",
      "Wall time: 257 ms\n"
     ]
    }
   ],
   "source": [
    "%%time\n",
    "\n",
    "# for test data, we need COO format to calculate test RMSE\n",
    "\n",
    "R_test_coo.data.astype(np.float32).tofile('R_test_coo.data.bin')\n",
    "R_test_coo.row.tofile('R_test_coo.row.bin')\n",
    "R_test_coo.col.tofile('R_test_coo.col.bin')\n",
    "\n",
    "test_data = np.fromfile('R_test_coo.data.bin', dtype=np.float32)\n",
    "test_row = np.fromfile('R_test_coo.row.bin', dtype=np.int32)\n",
    "test_col = np.fromfile('R_test_coo.col.bin', dtype=np.int32)"
   ]
  },
  {
   "cell_type": "code",
   "execution_count": 7,
   "metadata": {},
   "outputs": [
    {
     "name": "stdout",
     "output_type": "stream",
     "text": [
      "[90 90 90 ... 30 70  0]\n",
      "[1257724 1264325 1454022 ... 1034777  645041  271612]\n",
      "[ 363  260  105 ...  150 3038  835]\n",
      "\n",
      "[90. 90. 90. ... 30. 70.  0.]\n",
      "[1257724 1264325 1454022 ... 1034777  645041  271612]\n",
      "[ 363  260  105 ...  150 3038  835]\n"
     ]
    }
   ],
   "source": [
    "print(R_test_coo.data)\n",
    "print(R_test_coo.row)\n",
    "print(R_test_coo.col)\n",
    "print(\"\")\n",
    "print(test_data)\n",
    "print(test_row)\n",
    "print(test_col)"
   ]
  },
  {
   "cell_type": "code",
   "execution_count": 8,
   "metadata": {},
   "outputs": [
    {
     "name": "stdout",
     "output_type": "stream",
     "text": [
      "100\n",
      "1948879\n",
      "98200\n",
      "\n",
      "0\n",
      "0\n",
      "0\n",
      "\n",
      "1947156\n",
      "1429064\n",
      "98213\n",
      "38805\n",
      "CPU times: user 22.1 s, sys: 4.52 s, total: 26.7 s\n",
      "Wall time: 10.8 s\n"
     ]
    }
   ],
   "source": [
    "%%time\n",
    "\n",
    "print(np.max(R_test_coo.data))\n",
    "print(np.max(R_test_coo.row))\n",
    "print(np.max(R_test_coo.col))\n",
    "print(\"\")\n",
    "print(np.min(R_test_coo.data))\n",
    "print(np.min(R_test_coo.row))\n",
    "print(np.min(R_test_coo.col))\n",
    "print(\"\")\n",
    "print(np.unique(user).size)\n",
    "print(np.unique(R_test_coo.row).size)\n",
    "print(np.unique(item).size)\n",
    "print(np.unique(R_test_coo.col).size)"
   ]
  },
  {
   "cell_type": "code",
   "execution_count": 9,
   "metadata": {},
   "outputs": [
    {
     "name": "stdout",
     "output_type": "stream",
     "text": [
      "CPU times: user 4min 43s, sys: 5.52 s, total: 4min 49s\n",
      "Wall time: 4min 46s\n"
     ]
    }
   ],
   "source": [
    "%%time\n",
    "\n",
    "#1-based to 0-based\n",
    "R_train_coo = sparse.coo_matrix((rating_train, (user_item_train[:, 0] - 1, user_item_train[:, 1] - 1)))\n",
    "assert R_train_coo.nnz == nnz_train\n",
    "\n",
    "outfile_train = open(\"train.txt\", 'w')\n",
    "for i in range(nnz_train):\n",
    "    outfile_train.write(str((user_item_train[i, 0])) + \" \" + str((user_item_train[i, 1])) + \" \" + str(rating_train[i]) + \"\\n\")"
   ]
  },
  {
   "cell_type": "code",
   "execution_count": 10,
   "metadata": {},
   "outputs": [
    {
     "name": "stdout",
     "output_type": "stream",
     "text": [
      "CPU times: user 32.6 s, sys: 4.5 s, total: 37.1 s\n",
      "Wall time: 37.1 s\n"
     ]
    }
   ],
   "source": [
    "%%time\n",
    "\n",
    "# for training data, we need COO format to calculate training RMSE\n",
    "# we need CSR format R when calculate X from \\Theta\n",
    "# we need CSC format of R when calculating \\Theta from X\n",
    "R_train_coo.data.astype(np.float32).tofile('R_train_coo.data.bin')\n",
    "R_train_coo.row.tofile('R_train_coo.row.bin')\n",
    "R_train_coo.col.tofile('R_train_coo.col.bin')\n",
    "\n",
    "R_train_csr = R_train_coo.tocsr()\n",
    "R_train_csc = R_train_coo.tocsc()\n",
    "\n",
    "R_train_csr.data.astype(np.float32).tofile('R_train_csr.data.bin')\n",
    "R_train_csr.indices.tofile('R_train_csr.indices.bin')\n",
    "R_train_csr.indptr.tofile('R_train_csr.indptr.bin')\n",
    "R_train_csc.data.astype(np.float32).tofile('R_train_csc.data.bin')\n",
    "R_train_csc.indices.tofile('R_train_csc.indices.bin')\n",
    "R_train_csc.indptr.tofile('R_train_csc.indptr.bin')"
   ]
  },
  {
   "cell_type": "code",
   "execution_count": 11,
   "metadata": {},
   "outputs": [
    {
     "name": "stdout",
     "output_type": "stream",
     "text": [
      "CPU times: user 0 ns, sys: 1.74 s, total: 1.74 s\n",
      "Wall time: 1.74 s\n"
     ]
    }
   ],
   "source": [
    "%%time\n",
    "\n",
    "train_data = np.fromfile('R_train_coo.data.bin', dtype=np.float32)\n",
    "train_row = np.fromfile('R_train_coo.row.bin', dtype=np.int32)\n",
    "train_col = np.fromfile('R_train_coo.col.bin', dtype=np.int32)\n",
    "\n",
    "train_csc_data = np.fromfile('R_train_csc.data.bin', dtype=np.float32)\n",
    "train_csc_indices = np.fromfile('R_train_csc.indices.bin', dtype=np.int32)\n",
    "train_csc_indptr = np.fromfile('R_train_csc.indptr.bin', dtype=np.int32)\n",
    "\n",
    "train_csr_data = np.fromfile('R_train_csr.data.bin', dtype=np.float32)\n",
    "train_csr_indices = np.fromfile('R_train_csr.indices.bin', dtype=np.int32)\n",
    "train_csr_indptr = np.fromfile('R_train_csr.indptr.bin', dtype=np.int32)"
   ]
  },
  {
   "cell_type": "code",
   "execution_count": 12,
   "metadata": {},
   "outputs": [
    {
     "name": "stdout",
     "output_type": "stream",
     "text": [
      "[90  0 50 ... 60 80  0]\n",
      "[ 494892 1656417 1924655 ...  958739  956552 1106630]\n",
      "[  452 49583   790 ...   214   339   410]\n",
      "\n",
      "[90.  0. 50. ... 60. 80.  0.]\n",
      "[ 494892 1656417 1924655 ...  958739  956552 1106630]\n",
      "[  452 49583   790 ...   214   339   410]\n",
      "\n",
      "[ 90 100 100 ...  90  90  90]\n",
      "[   0    1    3 ...  728  822 2190]\n",
      "[        0        35        40 ... 103723709 103723711 103723717]\n",
      "\n",
      "[ 90. 100. 100. ...  90.  90.  90.]\n",
      "[   0    1    3 ...  728  822 2190]\n",
      "[        0        35        40 ... 103723709 103723711 103723717]\n",
      "\n",
      "[90 90 90 ...  0 30 50]\n",
      "[      0       4       9 ... 1899090 1899090 1920258]\n",
      "[        0    154739    228698 ... 103723715 103723716 103723717]\n",
      "\n",
      "[90. 90. 90. ...  0. 30. 50.]\n",
      "[      0       4       9 ... 1899090 1899090 1920258]\n",
      "[        0    154739    228698 ... 103723715 103723716 103723717]\n"
     ]
    }
   ],
   "source": [
    "print(R_train_coo.data)\n",
    "print(R_train_coo.row)\n",
    "print(R_train_coo.col)\n",
    "print(\"\")\n",
    "print(train_data)\n",
    "print(train_row)\n",
    "print(train_col)\n",
    "print(\"\")\n",
    "print(R_train_csr.data)\n",
    "print(R_train_csr.indices)\n",
    "print(R_train_csr.indptr)\n",
    "print(\"\")\n",
    "print(train_csr_data)\n",
    "print(train_csr_indices)\n",
    "print(train_csr_indptr)\n",
    "print(\"\")\n",
    "print(R_train_csc.data)\n",
    "print(R_train_csc.indices)\n",
    "print(R_train_csc.indptr)\n",
    "print(\"\")\n",
    "print(train_csc_data)\n",
    "print(train_csc_indices)\n",
    "print(train_csc_indptr)"
   ]
  },
  {
   "cell_type": "code",
   "execution_count": 13,
   "metadata": {},
   "outputs": [
    {
     "name": "stdout",
     "output_type": "stream",
     "text": [
      "100\n",
      "1948881\n",
      "98212\n",
      "\n",
      "0\n",
      "0\n",
      "0\n",
      "\n",
      "1947156\n",
      "1926462\n",
      "98213\n",
      "94105\n",
      "CPU times: user 34.6 s, sys: 14.7 s, total: 49.3 s\n",
      "Wall time: 24.7 s\n"
     ]
    }
   ],
   "source": [
    "%%time\n",
    "\n",
    "print(np.max(R_train_coo.data))\n",
    "print(np.max(R_train_coo.row))\n",
    "print(np.max(R_train_coo.col))\n",
    "print(\"\")\n",
    "print(np.min(R_train_coo.data))\n",
    "print(np.min(R_train_coo.row))\n",
    "print(np.min(R_train_coo.col))\n",
    "print(\"\")\n",
    "print(np.unique(user).size)\n",
    "print(np.unique(R_train_coo.row).size)\n",
    "print(np.unique(item).size)\n",
    "print(np.unique(R_train_coo.col).size)"
   ]
  },
  {
   "cell_type": "code",
   "execution_count": 14,
   "metadata": {},
   "outputs": [
    {
     "name": "stdout",
     "output_type": "stream",
     "text": [
      "writing extra meta_modified_all file\n",
      "CPU times: user 883 µs, sys: 106 µs, total: 989 µs\n",
      "Wall time: 586 µs\n"
     ]
    }
   ],
   "source": [
    "%%time\n",
    "\n",
    "print(\"writing extra meta_modified_all file\")\n",
    "\n",
    "outfile_meta = open(\"meta_modified_all\", 'w')\n",
    "outfile_meta.write(str(m) + \" \" + str(n) + \"\\n\" + str(nnz_train) + \"\\n\")\n",
    "outfile_meta.write(\"\"\"R_train_coo.data.bin\n",
    "R_train_coo.row.bin\n",
    "R_train_coo.col.bin\n",
    "R_train_csr.indptr.bin\n",
    "R_train_csr.indices.bin\n",
    "R_train_csr.data.bin\n",
    "R_train_csc.indptr.bin\n",
    "R_train_csc.indices.bin\n",
    "R_train_csc.data.bin\n",
    "\"\"\")\n",
    "outfile_meta.write(str(nnz_test) + \" \" + \"test.txt\\n\")"
   ]
  },
  {
   "cell_type": "code",
   "execution_count": 15,
   "metadata": {},
   "outputs": [
    {
     "name": "stdout",
     "output_type": "stream",
     "text": [
      "writing extra meta file\n",
      "CPU times: user 998 µs, sys: 0 ns, total: 998 µs\n",
      "Wall time: 749 µs\n"
     ]
    }
   ],
   "source": [
    "%%time\n",
    "\n",
    "print(\"writing extra meta file\")\n",
    "\n",
    "outfile_meta = open(\"meta\", 'w')\n",
    "outfile_meta.write(str(m) + \" \" + str(n) + \"\\n\")\n",
    "outfile_meta.write(str(nnz_train) + \" \" + \"train.txt\\n\")\n",
    "outfile_meta.write(str(nnz_test) + \" \" + \"test.txt\\n\")"
   ]
  }
 ],
 "metadata": {
  "kernelspec": {
   "display_name": "Python 3",
   "language": "python",
   "name": "python3"
  },
  "language_info": {
   "codemirror_mode": {
    "name": "ipython",
    "version": 3
   },
   "file_extension": ".py",
   "mimetype": "text/x-python",
   "name": "python",
   "nbconvert_exporter": "python",
   "pygments_lexer": "ipython3",
   "version": "3.6.5"
  }
 },
 "nbformat": 4,
 "nbformat_minor": 2
}
