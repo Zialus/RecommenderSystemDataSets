{
 "cells": [
  {
   "cell_type": "code",
   "execution_count": 1,
   "metadata": {
    "papermill": {
     "duration": 0.5972,
     "end_time": "2019-02-11T16:00:58.441145",
     "exception": false,
     "start_time": "2019-02-11T16:00:57.843945",
     "status": "completed"
    },
    "tags": []
   },
   "outputs": [
    {
     "name": "stdout",
     "output_type": "stream",
     "text": [
      "CPU times: user 976 ms, sys: 129 ms, total: 1.1 s\n",
      "Wall time: 1.69 s\n"
     ]
    }
   ],
   "source": [
    "%%time\n",
    "\n",
    "import numpy as np\n",
    "from scipy import sparse\n",
    "import pandas as pd\n",
    "from sklearn.model_selection import train_test_split\n",
    "import tarfile as tar\n",
    "import gzip as gz\n",
    "import shutil\n",
    "import os"
   ]
  },
  {
   "cell_type": "code",
   "execution_count": 2,
   "metadata": {
    "papermill": {
     "duration": 2.192078,
     "end_time": "2019-02-11T16:01:00.648139",
     "exception": false,
     "start_time": "2019-02-11T16:00:58.456061",
     "status": "completed"
    },
    "tags": []
   },
   "outputs": [
    {
     "name": "stdout",
     "output_type": "stream",
     "text": [
      "CPU times: user 2.02 s, sys: 1.12 s, total: 3.15 s\n",
      "Wall time: 3.65 s\n"
     ]
    }
   ],
   "source": [
    "%%time\n",
    "\n",
    "with tar.open(\"Webscope_R1.tgz\", \"r\") as tar_ref:\n",
    "    tar_ref.extractall()"
   ]
  },
  {
   "cell_type": "code",
   "execution_count": 3,
   "metadata": {
    "papermill": {
     "duration": 33.709391,
     "end_time": "2019-02-11T16:01:34.398339",
     "exception": false,
     "start_time": "2019-02-11T16:01:00.688948",
     "status": "completed"
    },
    "tags": []
   },
   "outputs": [
    {
     "name": "stdout",
     "output_type": "stream",
     "text": [
      "CPU times: user 17.9 s, sys: 3.63 s, total: 21.5 s\n",
      "Wall time: 21.5 s\n"
     ]
    }
   ],
   "source": [
    "%%time\n",
    "\n",
    "with gz.open(\"ydata-ymusic-user-artist-ratings-v1_0.txt.gz\", \"r\") as f_in:\n",
    "    with open('ydata-ymusic-user-artist-ratings-v1_0.txt', 'wb') as f_out:\n",
    "        shutil.copyfileobj(f_in, f_out)"
   ]
  },
  {
   "cell_type": "code",
   "execution_count": 4,
   "metadata": {
    "papermill": {
     "duration": 556.978924,
     "end_time": "2019-02-11T16:10:51.435302",
     "exception": false,
     "start_time": "2019-02-11T16:01:34.456378",
     "status": "completed"
    },
    "tags": []
   },
   "outputs": [
    {
     "name": "stdout",
     "output_type": "stream",
     "text": [
      "CPU times: user 23min 59s, sys: 6.88 s, total: 24min 6s\n",
      "Wall time: 24min 31s\n"
     ]
    }
   ],
   "source": [
    "%%time\n",
    "\n",
    "# Cleanup original dataset from Yahoo\n",
    "# Removes ratings of 255 (which means never play again)[actual ratings range from 0 to 100]\n",
    "# Removes items -100 and -99 (Unknown Artist and Not Applicable)\n",
    "# Number of entries will be reduced from 115,579,440 to 115,248,575 and then to 115,248,573\n",
    "# \"Normalize\" item ids (They go from ranging between -100 and 1,101,749 to ranging from 1 to 98,213)\n",
    "fileIN = open(\"ydata-ymusic-user-artist-ratings-v1_0.txt\", \"r+\")\n",
    "fileOUT = open(\"ydatamusic.txt\", \"w+\")\n",
    "\n",
    "map = {}\n",
    "n = 1\n",
    "for line in fileIN:\n",
    "        token = line.strip().split()\n",
    "        uid = token[0]\n",
    "        iid = token[1]\n",
    "        score = token[2]\n",
    "        if int(score) != 255 and int(iid) > 0:\n",
    "            if iid in map:\n",
    "                real_iid = map[iid]\n",
    "            else:\n",
    "                map[iid] = n\n",
    "                real_iid = n\n",
    "                n+=1\n",
    "            fileOUT.write(str(uid))\n",
    "            fileOUT.write(\"\\t\")\n",
    "            fileOUT.write(str(real_iid))\n",
    "            fileOUT.write(\"\\t\")\n",
    "            fileOUT.write(str(score))\n",
    "            fileOUT.write(\"\\n\")\n",
    "fileIN.close()\n",
    "fileOUT.close()"
   ]
  },
  {
   "cell_type": "code",
   "execution_count": 5,
   "metadata": {
    "papermill": {
     "duration": 23.899983,
     "end_time": "2019-02-11T16:11:15.350200",
     "exception": false,
     "start_time": "2019-02-11T16:10:51.450217",
     "status": "completed"
    },
    "tags": []
   },
   "outputs": [
    {
     "name": "stdout",
     "output_type": "stream",
     "text": [
      "CPU times: user 51 s, sys: 5.92 s, total: 57 s\n",
      "Wall time: 50.5 s\n"
     ]
    }
   ],
   "source": [
    "%%time\n",
    "\n",
    "data_file = \"ydatamusic.txt\"\n",
    "\n",
    "m = 1_948_882\n",
    "n = 98_211\n",
    "nnz_train = 103_723_717\n",
    "nnz_test = 11_524_856\n",
    "\n",
    "all_data = pd.read_csv(data_file, delimiter=\"\\t\", header=None)\n",
    "user = all_data[0].values\n",
    "item = all_data[1].values\n",
    "rating = all_data[2].values"
   ]
  },
  {
   "cell_type": "code",
   "execution_count": 6,
   "metadata": {},
   "outputs": [
    {
     "name": "stdout",
     "output_type": "stream",
     "text": [
      "CPU times: user 795 ms, sys: 1.42 s, total: 2.21 s\n",
      "Wall time: 1.42 s\n"
     ]
    }
   ],
   "source": [
    "%%time\n",
    "\n",
    "os.remove(\"ydata-ymusic-user-artist-ratings-v1_0.txt.gz\")\n",
    "os.remove(\"ydata-ymusic-user-artist-ratings-v1_0.txt\")\n",
    "os.remove(\"ydata-ymusic-artist-names-v1_0.txt.gz\")\n",
    "os.remove(\"ydatamusic.txt\")"
   ]
  },
  {
   "cell_type": "code",
   "execution_count": 7,
   "metadata": {
    "papermill": {
     "duration": 12.160878,
     "end_time": "2019-02-11T16:11:27.522997",
     "exception": true,
     "start_time": "2019-02-11T16:11:15.362119",
     "status": "failed"
    },
    "tags": []
   },
   "outputs": [
    {
     "name": "stdout",
     "output_type": "stream",
     "text": [
      "[      1       1       1 ... 1948882 1948882 1948882]\n",
      "[   1    2    3 ...  178  729 2191]\n",
      "[ 90 100  90 ...  90  90  90]\n",
      "\n",
      "1\n",
      "1\n",
      "0\n",
      "\n",
      "1948882\n",
      "98211\n",
      "100\n",
      "\n",
      "1947156\n",
      "98211\n",
      "101\n",
      "\n",
      "115248573\n",
      "CPU times: user 27.6 s, sys: 6.86 ms, total: 27.6 s\n",
      "Wall time: 22.8 s\n"
     ]
    }
   ],
   "source": [
    "%%time\n",
    "\n",
    "print(user)\n",
    "print(item)\n",
    "print(rating)\n",
    "print(\"\")\n",
    "print(np.min(user))\n",
    "print(np.min(item))\n",
    "print(np.min(rating))\n",
    "print(\"\")\n",
    "print(np.max(user))\n",
    "print(np.max(item))\n",
    "print(np.max(rating))\n",
    "print(\"\")\n",
    "print(np.unique(user).size)\n",
    "print(np.unique(item).size)\n",
    "print(np.unique(rating).size)\n",
    "print(\"\")\n",
    "print(user.size)\n",
    "\n",
    "assert np.max(user) == m\n",
    "assert np.max(item) == n\n",
    "assert user.size == nnz_train + nnz_test"
   ]
  },
  {
   "cell_type": "code",
   "execution_count": 8,
   "metadata": {
    "papermill": {
     "duration": null,
     "end_time": null,
     "exception": null,
     "start_time": null,
     "status": "pending"
    },
    "tags": []
   },
   "outputs": [
    {
     "name": "stdout",
     "output_type": "stream",
     "text": [
      "CPU times: user 24 s, sys: 1.49 s, total: 25.5 s\n",
      "Wall time: 23.5 s\n"
     ]
    }
   ],
   "source": [
    "%%time\n",
    "\n",
    "user_item = np.vstack((user, item))\n",
    "\n",
    "user_item_train, user_item_test, rating_train, rating_test = train_test_split(user_item.T,\n",
    "                                                                              rating,\n",
    "                                                                              test_size=nnz_test,\n",
    "                                                                              random_state=42)"
   ]
  },
  {
   "cell_type": "code",
   "execution_count": 9,
   "metadata": {
    "papermill": {
     "duration": null,
     "end_time": null,
     "exception": null,
     "start_time": null,
     "status": "pending"
    },
    "tags": []
   },
   "outputs": [
    {
     "name": "stdout",
     "output_type": "stream",
     "text": [
      "CPU times: user 1min 32s, sys: 441 ms, total: 1min 33s\n",
      "Wall time: 1min 34s\n"
     ]
    }
   ],
   "source": [
    "%%time\n",
    "\n",
    "# 1-based to 0-based\n",
    "R_test_coo = sparse.coo_matrix((rating_test, (user_item_test[:, 0] - 1, user_item_test[:, 1] - 1)))\n",
    "assert R_test_coo.nnz == nnz_test\n",
    "\n",
    "outfile_test = open(\"test.txt\", 'w')\n",
    "for i in range(nnz_test):\n",
    "    outfile_test.write(str((user_item_test[i, 0])) + \" \" + str((user_item_test[i, 1])) + \" \" + str(rating_test[i]) + \"\\n\")"
   ]
  },
  {
   "cell_type": "code",
   "execution_count": 10,
   "metadata": {
    "papermill": {
     "duration": null,
     "end_time": null,
     "exception": null,
     "start_time": null,
     "status": "pending"
    },
    "tags": []
   },
   "outputs": [
    {
     "name": "stdout",
     "output_type": "stream",
     "text": [
      "CPU times: user 24.1 ms, sys: 292 ms, total: 316 ms\n",
      "Wall time: 348 ms\n"
     ]
    }
   ],
   "source": [
    "%%time\n",
    "\n",
    "# for test data, we need COO format to calculate test RMSE\n",
    "\n",
    "R_test_coo.data.astype(np.float32).tofile('R_test_coo.data.bin')\n",
    "R_test_coo.row.tofile('R_test_coo.row.bin')\n",
    "R_test_coo.col.tofile('R_test_coo.col.bin')\n",
    "\n",
    "test_data = np.fromfile('R_test_coo.data.bin', dtype=np.float32)\n",
    "test_row = np.fromfile('R_test_coo.row.bin', dtype=np.int32)\n",
    "test_col = np.fromfile('R_test_coo.col.bin', dtype=np.int32)"
   ]
  },
  {
   "cell_type": "code",
   "execution_count": 11,
   "metadata": {
    "papermill": {
     "duration": null,
     "end_time": null,
     "exception": null,
     "start_time": null,
     "status": "pending"
    },
    "tags": []
   },
   "outputs": [
    {
     "name": "stdout",
     "output_type": "stream",
     "text": [
      "[90 82 90 ...  0  0  0]\n",
      "[1257724 1546778 1454022 ... 1371444 1713240 1691875]\n",
      "[ 336   54  310 ... 5898  355  828]\n",
      "\n",
      "[90. 82. 90. ...  0.  0.  0.]\n",
      "[1257724 1546778 1454022 ... 1371444 1713240 1691875]\n",
      "[ 336   54  310 ... 5898  355  828]\n"
     ]
    }
   ],
   "source": [
    "print(R_test_coo.data)\n",
    "print(R_test_coo.row)\n",
    "print(R_test_coo.col)\n",
    "print(\"\")\n",
    "print(test_data)\n",
    "print(test_row)\n",
    "print(test_col)"
   ]
  },
  {
   "cell_type": "code",
   "execution_count": 12,
   "metadata": {
    "papermill": {
     "duration": null,
     "end_time": null,
     "exception": null,
     "start_time": null,
     "status": "pending"
    },
    "tags": []
   },
   "outputs": [
    {
     "name": "stdout",
     "output_type": "stream",
     "text": [
      "100\n",
      "1948879\n",
      "98205\n",
      "\n",
      "0\n",
      "0\n",
      "0\n",
      "\n",
      "1947156\n",
      "1428803\n",
      "98211\n",
      "38802\n",
      "CPU times: user 22.5 s, sys: 39.8 ms, total: 22.5 s\n",
      "Wall time: 17.3 s\n"
     ]
    }
   ],
   "source": [
    "%%time\n",
    "\n",
    "print(np.max(R_test_coo.data))\n",
    "print(np.max(R_test_coo.row))\n",
    "print(np.max(R_test_coo.col))\n",
    "print(\"\")\n",
    "print(np.min(R_test_coo.data))\n",
    "print(np.min(R_test_coo.row))\n",
    "print(np.min(R_test_coo.col))\n",
    "print(\"\")\n",
    "print(np.unique(user).size)\n",
    "print(np.unique(R_test_coo.row).size)\n",
    "print(np.unique(item).size)\n",
    "print(np.unique(R_test_coo.col).size)"
   ]
  },
  {
   "cell_type": "code",
   "execution_count": 13,
   "metadata": {
    "papermill": {
     "duration": null,
     "end_time": null,
     "exception": null,
     "start_time": null,
     "status": "pending"
    },
    "tags": []
   },
   "outputs": [
    {
     "name": "stdout",
     "output_type": "stream",
     "text": [
      "CPU times: user 13min 46s, sys: 3.97 s, total: 13min 50s\n",
      "Wall time: 13min 56s\n"
     ]
    }
   ],
   "source": [
    "%%time\n",
    "\n",
    "# 1-based to 0-based\n",
    "R_train_coo = sparse.coo_matrix((rating_train, (user_item_train[:, 0] - 1, user_item_train[:, 1] - 1)))\n",
    "assert R_train_coo.nnz == nnz_train\n",
    "\n",
    "outfile_train = open(\"train.txt\", 'w')\n",
    "for i in range(nnz_train):\n",
    "    outfile_train.write(str((user_item_train[i, 0])) + \" \" + str((user_item_train[i, 1])) + \" \" + str(rating_train[i]) + \"\\n\")"
   ]
  },
  {
   "cell_type": "code",
   "execution_count": 14,
   "metadata": {
    "papermill": {
     "duration": null,
     "end_time": null,
     "exception": null,
     "start_time": null,
     "status": "pending"
    },
    "tags": []
   },
   "outputs": [
    {
     "name": "stdout",
     "output_type": "stream",
     "text": [
      "CPU times: user 29.4 s, sys: 5.63 s, total: 35 s\n",
      "Wall time: 35.1 s\n"
     ]
    }
   ],
   "source": [
    "%%time\n",
    "\n",
    "# for training data, we need COO format to calculate training RMSE\n",
    "# we need CSR format R when calculate X from \\Theta\n",
    "# we need CSC format of R when calculating \\Theta from X\n",
    "R_train_coo.data.astype(np.float32).tofile('R_train_coo.data.bin')\n",
    "R_train_coo.row.tofile('R_train_coo.row.bin')\n",
    "R_train_coo.col.tofile('R_train_coo.col.bin')\n",
    "\n",
    "R_train_csr = R_train_coo.tocsr()\n",
    "R_train_csc = R_train_coo.tocsc()\n",
    "\n",
    "R_train_csr.data.astype(np.float32).tofile('R_train_csr.data.bin')\n",
    "R_train_csr.indices.tofile('R_train_csr.indices.bin')\n",
    "R_train_csr.indptr.tofile('R_train_csr.indptr.bin')\n",
    "R_train_csc.data.astype(np.float32).tofile('R_train_csc.data.bin')\n",
    "R_train_csc.indices.tofile('R_train_csc.indices.bin')\n",
    "R_train_csc.indptr.tofile('R_train_csc.indptr.bin')"
   ]
  },
  {
   "cell_type": "code",
   "execution_count": 15,
   "metadata": {
    "papermill": {
     "duration": null,
     "end_time": null,
     "exception": null,
     "start_time": null,
     "status": "pending"
    },
    "tags": []
   },
   "outputs": [
    {
     "name": "stdout",
     "output_type": "stream",
     "text": [
      "CPU times: user 1.11 ms, sys: 2.81 s, total: 2.81 s\n",
      "Wall time: 2.81 s\n"
     ]
    }
   ],
   "source": [
    "%%time\n",
    "\n",
    "train_data = np.fromfile('R_train_coo.data.bin', dtype=np.float32)\n",
    "train_row = np.fromfile('R_train_coo.row.bin', dtype=np.int32)\n",
    "train_col = np.fromfile('R_train_coo.col.bin', dtype=np.int32)\n",
    "\n",
    "train_csc_data = np.fromfile('R_train_csc.data.bin', dtype=np.float32)\n",
    "train_csc_indices = np.fromfile('R_train_csc.indices.bin', dtype=np.int32)\n",
    "train_csc_indptr = np.fromfile('R_train_csc.indptr.bin', dtype=np.int32)\n",
    "\n",
    "train_csr_data = np.fromfile('R_train_csr.data.bin', dtype=np.float32)\n",
    "train_csr_indices = np.fromfile('R_train_csr.indices.bin', dtype=np.int32)\n",
    "train_csr_indptr = np.fromfile('R_train_csr.indptr.bin', dtype=np.int32)"
   ]
  },
  {
   "cell_type": "code",
   "execution_count": 16,
   "metadata": {
    "papermill": {
     "duration": null,
     "end_time": null,
     "exception": null,
     "start_time": null,
     "status": "pending"
    },
    "tags": []
   },
   "outputs": [
    {
     "name": "stdout",
     "output_type": "stream",
     "text": [
      "[70  0 90 ... 60 80  0]\n",
      "[ 645041  271612  494892 ...  958739  956552 1106630]\n",
      "[3038  835  452 ...  214  339  410]\n",
      "\n",
      "[70.  0. 90. ... 60. 80.  0.]\n",
      "[ 645041  271612  494892 ...  958739  956552 1106630]\n",
      "[3038  835  452 ...  214  339  410]\n",
      "\n",
      "[ 90 100 100 ...  90  90  90]\n",
      "[   0    1    3 ...  728  822 2190]\n",
      "[        0        35        40 ... 103723709 103723711 103723717]\n",
      "\n",
      "[ 90. 100. 100. ...  90.  90.  90.]\n",
      "[   0    1    3 ...  728  822 2190]\n",
      "[        0        35        40 ... 103723709 103723711 103723717]\n",
      "\n",
      "[90 90 90 ...  0 30 50]\n",
      "[      0       4       9 ... 1899090 1899090 1920258]\n",
      "[        0    154716    228738 ... 103723715 103723716 103723717]\n",
      "\n",
      "[90. 90. 90. ...  0. 30. 50.]\n",
      "[      0       4       9 ... 1899090 1899090 1920258]\n",
      "[        0    154716    228738 ... 103723715 103723716 103723717]\n"
     ]
    }
   ],
   "source": [
    "print(R_train_coo.data)\n",
    "print(R_train_coo.row)\n",
    "print(R_train_coo.col)\n",
    "print(\"\")\n",
    "print(train_data)\n",
    "print(train_row)\n",
    "print(train_col)\n",
    "print(\"\")\n",
    "print(R_train_csr.data)\n",
    "print(R_train_csr.indices)\n",
    "print(R_train_csr.indptr)\n",
    "print(\"\")\n",
    "print(train_csr_data)\n",
    "print(train_csr_indices)\n",
    "print(train_csr_indptr)\n",
    "print(\"\")\n",
    "print(R_train_csc.data)\n",
    "print(R_train_csc.indices)\n",
    "print(R_train_csc.indptr)\n",
    "print(\"\")\n",
    "print(train_csc_data)\n",
    "print(train_csc_indices)\n",
    "print(train_csc_indptr)"
   ]
  },
  {
   "cell_type": "code",
   "execution_count": 17,
   "metadata": {
    "papermill": {
     "duration": null,
     "end_time": null,
     "exception": null,
     "start_time": null,
     "status": "pending"
    },
    "tags": []
   },
   "outputs": [
    {
     "name": "stdout",
     "output_type": "stream",
     "text": [
      "100\n",
      "1948881\n",
      "98210\n",
      "\n",
      "0\n",
      "0\n",
      "0\n",
      "\n",
      "1947156\n",
      "1926443\n",
      "98211\n",
      "94086\n",
      "CPU times: user 41.4 s, sys: 1.87 s, total: 43.2 s\n",
      "Wall time: 37.2 s\n"
     ]
    }
   ],
   "source": [
    "%%time\n",
    "\n",
    "print(np.max(R_train_coo.data))\n",
    "print(np.max(R_train_coo.row))\n",
    "print(np.max(R_train_coo.col))\n",
    "print(\"\")\n",
    "print(np.min(R_train_coo.data))\n",
    "print(np.min(R_train_coo.row))\n",
    "print(np.min(R_train_coo.col))\n",
    "print(\"\")\n",
    "print(np.unique(user).size)\n",
    "print(np.unique(R_train_coo.row).size)\n",
    "print(np.unique(item).size)\n",
    "print(np.unique(R_train_coo.col).size)"
   ]
  },
  {
   "cell_type": "code",
   "execution_count": 18,
   "metadata": {
    "papermill": {
     "duration": null,
     "end_time": null,
     "exception": null,
     "start_time": null,
     "status": "pending"
    },
    "tags": []
   },
   "outputs": [
    {
     "name": "stdout",
     "output_type": "stream",
     "text": [
      "writing extra meta_modified_all file\n",
      "CPU times: user 867 µs, sys: 0 ns, total: 867 µs\n",
      "Wall time: 482 µs\n"
     ]
    }
   ],
   "source": [
    "%%time\n",
    "\n",
    "print(\"writing extra meta_modified_all file\")\n",
    "\n",
    "outfile_meta = open(\"meta_modified_all\", 'w')\n",
    "outfile_meta.write(str(m) + \" \" + str(n) + \"\\n\" + str(nnz_train) + \"\\n\")\n",
    "outfile_meta.write(\"\"\"R_train_coo.data.bin\n",
    "R_train_coo.row.bin\n",
    "R_train_coo.col.bin\n",
    "R_train_csr.indptr.bin\n",
    "R_train_csr.indices.bin\n",
    "R_train_csr.data.bin\n",
    "R_train_csc.indptr.bin\n",
    "R_train_csc.indices.bin\n",
    "R_train_csc.data.bin\n",
    "\"\"\")\n",
    "outfile_meta.write(str(nnz_test) + \" \" + \"test.txt\\n\")"
   ]
  },
  {
   "cell_type": "code",
   "execution_count": 19,
   "metadata": {
    "papermill": {
     "duration": null,
     "end_time": null,
     "exception": null,
     "start_time": null,
     "status": "pending"
    },
    "tags": []
   },
   "outputs": [
    {
     "name": "stdout",
     "output_type": "stream",
     "text": [
      "writing extra meta file\n",
      "CPU times: user 1.75 ms, sys: 1e+03 ns, total: 1.75 ms\n",
      "Wall time: 1.26 ms\n"
     ]
    }
   ],
   "source": [
    "%%time\n",
    "\n",
    "print(\"writing extra meta file\")\n",
    "\n",
    "outfile_meta = open(\"meta\", 'w')\n",
    "outfile_meta.write(str(m) + \" \" + str(n) + \"\\n\")\n",
    "outfile_meta.write(str(nnz_train) + \" \" + \"train.txt\\n\")\n",
    "outfile_meta.write(str(nnz_test) + \" \" + \"test.txt\\n\")"
   ]
  }
 ],
 "metadata": {
  "kernelspec": {
   "display_name": "Python 3",
   "language": "python",
   "name": "python3"
  },
  "language_info": {
   "codemirror_mode": {
    "name": "ipython",
    "version": 3
   },
   "file_extension": ".py",
   "mimetype": "text/x-python",
   "name": "python",
   "nbconvert_exporter": "python",
   "pygments_lexer": "ipython3",
   "version": "3.7.1"
  },
  "papermill": {
   "duration": 631.336018,
   "end_time": "2019-02-11T16:11:28.498442",
   "environment_variables": {},
   "exception": true,
   "input_path": "yahoor1.ipynb",
   "output_path": "yahoor1-out.ipynb",
   "parameters": {},
   "start_time": "2019-02-11T16:00:57.162424",
   "version": "0.18.0"
  }
 },
 "nbformat": 4,
 "nbformat_minor": 2
}
