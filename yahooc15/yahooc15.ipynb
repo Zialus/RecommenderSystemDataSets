{
 "cells": [
  {
   "cell_type": "code",
   "execution_count": 1,
   "metadata": {},
   "outputs": [
    {
     "name": "stdout",
     "output_type": "stream",
     "text": [
      "CPU times: user 202 ms, sys: 40 ms, total: 242 ms\n",
      "Wall time: 281 ms\n"
     ]
    }
   ],
   "source": [
    "%%time\n",
    "\n",
    "import pandas as pd\n",
    "import numpy as np\n",
    "from scipy import sparse\n",
    "import tarfile as tar"
   ]
  },
  {
   "cell_type": "code",
   "execution_count": 2,
   "metadata": {},
   "outputs": [
    {
     "name": "stdout",
     "output_type": "stream",
     "text": [
      "CPU times: user 6.92 s, sys: 1.74 s, total: 8.66 s\n",
      "Wall time: 16.3 s\n"
     ]
    }
   ],
   "source": [
    "%%time\n",
    "\n",
    "with tar.open(\"Webscope_C15.tgz\", \"r\") as tar_ref:\n",
    "    tar_ref.extractall()"
   ]
  },
  {
   "cell_type": "code",
   "execution_count": 3,
   "metadata": {},
   "outputs": [
    {
     "name": "stdout",
     "output_type": "stream",
     "text": [
      "CPU times: user 3min 30s, sys: 5.56 s, total: 3min 36s\n",
      "Wall time: 3min 39s\n"
     ]
    }
   ],
   "source": [
    "%%time\n",
    "\n",
    "with tar.open(\"ydata-ymusic-kddcup-2011-track1.tar.bz2\", \"r\") as tar_ref:\n",
    "    tar_ref.extractall()"
   ]
  },
  {
   "cell_type": "code",
   "execution_count": 4,
   "metadata": {},
   "outputs": [
    {
     "name": "stdout",
     "output_type": "stream",
     "text": [
      "CPU times: user 8.33 s, sys: 91.8 ms, total: 8.42 s\n",
      "Wall time: 8.63 s\n"
     ]
    }
   ],
   "source": [
    "%%time\n",
    "\n",
    "fileIN = open(\"ydata-ymusic-kddcup-2011-track1/validationIdx1.txt\", \"r+\")\n",
    "fileOUT = open(\"test_tmp.txt\", \"w+\")\n",
    "\n",
    "\n",
    "lineCount = 0\n",
    "for line in fileIN:\n",
    "    if lineCount == 0:\n",
    "        token = line.strip().split('|')\n",
    "        uid = token[0]\n",
    "        lineCount = int(token[1])\n",
    "    else:\n",
    "        token = line.strip().split()\n",
    "        iid = token[0]\n",
    "        score = token[1]\n",
    "        lineCount = lineCount - 1;\n",
    "        fileOUT.write(str(uid) + \"\\t\" + str(iid) + \"\\t\" + str(score) + \"\\n\")\n",
    "\n",
    "fileIN.close()\n",
    "fileOUT.close()"
   ]
  },
  {
   "cell_type": "code",
   "execution_count": 5,
   "metadata": {},
   "outputs": [
    {
     "name": "stdout",
     "output_type": "stream",
     "text": [
      "CPU times: user 8min 3s, sys: 5.67 s, total: 8min 8s\n",
      "Wall time: 8min 9s\n"
     ]
    }
   ],
   "source": [
    "%%time\n",
    "\n",
    "fileIN = open(\"ydata-ymusic-kddcup-2011-track1/trainIdx1.txt\", \"r+\")\n",
    "fileOUT = open(\"train_tmp.txt\", \"w+\")\n",
    "\n",
    "lineCount = 0\n",
    "for line in fileIN:\n",
    "    if lineCount == 0:\n",
    "        token = line.strip().split('|')\n",
    "        uid = token[0]\n",
    "        lineCount = int(token[1])\n",
    "    else:\n",
    "        token = line.strip().split()\n",
    "        iid = token[0]\n",
    "        score = token[1]\n",
    "        lineCount = lineCount - 1;\n",
    "        fileOUT.write(str(uid) + \"\\t\" + str(iid) + \"\\t\" + str(score) + \"\\n\")\n",
    "\n",
    "fileIN.close()\n",
    "fileOUT.close()"
   ]
  },
  {
   "cell_type": "code",
   "execution_count": 6,
   "metadata": {},
   "outputs": [
    {
     "name": "stdout",
     "output_type": "stream",
     "text": [
      "preparing training data\n",
      "CPU times: user 1.3 s, sys: 347 ms, total: 1.65 s\n",
      "Wall time: 1 s\n",
      "preparing test data\n",
      "CPU times: user 1min 5s, sys: 22.4 s, total: 1min 27s\n",
      "Wall time: 54.8 s\n"
     ]
    }
   ],
   "source": [
    "m = 1_000_990\n",
    "n = 624_961\n",
    "\n",
    "nnz_train = 252_800_275\n",
    "nnz_test = 4_003_960\n",
    "\n",
    "train_data_file = \"train_tmp.txt\"\n",
    "test_data_file = \"test_tmp.txt\"\n",
    "\n",
    "print(\"preparing training data\")\n",
    "%time test_data = pd.read_csv(test_data_file, delimiter = \"\\t\",header=None)\n",
    "test_user = test_data[0].values\n",
    "test_item = test_data[1].values\n",
    "test_rating = test_data[2].values\n",
    "\n",
    "print(\"preparing test data\")\n",
    "%time train_data = pd.read_csv(train_data_file, delimiter = \"\\t\",header=None)\n",
    "train_user = train_data[0].values\n",
    "train_item = train_data[1].values\n",
    "train_rating = train_data[2].values"
   ]
  },
  {
   "cell_type": "code",
   "execution_count": 7,
   "metadata": {},
   "outputs": [
    {
     "name": "stdout",
     "output_type": "stream",
     "text": [
      "[      0       0       0 ... 1000989 1000989 1000989]\n",
      "[540429 554898 470288 ... 569179 574204 578821]\n",
      "[70 90 70 ... 90 90 90]\n",
      "\n",
      "1000989\n",
      "624960\n",
      "100\n",
      "\n",
      "0\n",
      "2\n",
      "0\n",
      "\n",
      "1000990\n",
      "258694\n",
      "101\n",
      "\n",
      "4003960\n",
      "CPU times: user 6.77 s, sys: 48.3 ms, total: 6.82 s\n",
      "Wall time: 532 ms\n"
     ]
    }
   ],
   "source": [
    "%%time\n",
    "\n",
    "print(test_user)\n",
    "print(test_item)\n",
    "print(test_rating)\n",
    "print(\"\")\n",
    "print(np.max(test_user))\n",
    "print(np.max(test_item))\n",
    "print(np.max(test_rating))\n",
    "print(\"\")\n",
    "print(np.min(test_user))\n",
    "print(np.min(test_item))\n",
    "print(np.min(test_rating))\n",
    "print(\"\")\n",
    "print(np.unique(test_user).size)\n",
    "print(np.unique(test_item).size)\n",
    "print(np.unique(test_rating).size)\n",
    "print(\"\")\n",
    "print(test_user.size)\n",
    "\n",
    "assert test_user.size == nnz_test"
   ]
  },
  {
   "cell_type": "code",
   "execution_count": 8,
   "metadata": {},
   "outputs": [
    {
     "name": "stdout",
     "output_type": "stream",
     "text": [
      "[      0       0       0 ... 1000989 1000989 1000989]\n",
      "[507696 137915  22757 ... 531386 532569 556366]\n",
      "[90 90 90 ... 80 90 90]\n",
      "\n",
      "1000989\n",
      "624960\n",
      "100\n",
      "\n",
      "0\n",
      "0\n",
      "0\n",
      "\n",
      "1000990\n",
      "624961\n",
      "101\n",
      "\n",
      "252800275\n",
      "CPU times: user 42.2 s, sys: 6.66 s, total: 48.9 s\n",
      "Wall time: 31.2 s\n"
     ]
    }
   ],
   "source": [
    "%%time\n",
    "\n",
    "print(train_user)\n",
    "print(train_item)\n",
    "print(train_rating)\n",
    "print(\"\")\n",
    "print(np.max(train_user))\n",
    "print(np.max(train_item))\n",
    "print(np.max(train_rating))\n",
    "print(\"\")\n",
    "print(np.min(train_user))\n",
    "print(np.min(train_item))\n",
    "print(np.min(train_rating))\n",
    "print(\"\")\n",
    "print(np.unique(train_user).size)\n",
    "print(np.unique(train_item).size)\n",
    "print(np.unique(train_rating).size)\n",
    "print(\"\")\n",
    "print(train_user.size)\n",
    "\n",
    "assert train_user.size == nnz_train\n",
    "assert np.max(train_user)+1 == m  # ids start with 0\n",
    "assert np.max(train_item)+1 == n  # ids start with 0"
   ]
  },
  {
   "cell_type": "code",
   "execution_count": 9,
   "metadata": {},
   "outputs": [
    {
     "name": "stdout",
     "output_type": "stream",
     "text": [
      "CPU times: user 13.2 s, sys: 88.3 ms, total: 13.3 s\n",
      "Wall time: 13.3 s\n"
     ]
    }
   ],
   "source": [
    "%%time\n",
    "\n",
    "R_test_coo = sparse.coo_matrix((test_rating, (test_user, test_item)))\n",
    "assert R_test_coo.nnz == nnz_test\n",
    "\n",
    "# 0-based to 1-based\n",
    "outfile_test = open(\"test.txt\", 'w')\n",
    "for i in range(nnz_test):\n",
    "    outfile_test.write(str(test_user[i] + 1) + \" \" + str(test_item[i] + 1) + \" \" + str(test_rating[i]) + \"\\n\")"
   ]
  },
  {
   "cell_type": "code",
   "execution_count": 10,
   "metadata": {},
   "outputs": [
    {
     "name": "stdout",
     "output_type": "stream",
     "text": [
      "CPU times: user 9.24 ms, sys: 56.3 ms, total: 65.5 ms\n",
      "Wall time: 63.2 ms\n"
     ]
    }
   ],
   "source": [
    "%%time\n",
    "# for test data, we need COO format to calculate test RMSE\n",
    "\n",
    "R_test_coo.data.astype(np.float32).tofile('R_test_coo.data.bin')\n",
    "R_test_coo.row.tofile('R_test_coo.row.bin')\n",
    "R_test_coo.col.tofile('R_test_coo.col.bin')\n",
    "\n",
    "test_data = np.fromfile('R_test_coo.data.bin', dtype=np.float32)\n",
    "test_row = np.fromfile('R_test_coo.row.bin', dtype=np.int32)\n",
    "test_col = np.fromfile('R_test_coo.col.bin', dtype=np.int32)"
   ]
  },
  {
   "cell_type": "code",
   "execution_count": 11,
   "metadata": {},
   "outputs": [
    {
     "name": "stdout",
     "output_type": "stream",
     "text": [
      "[70 90 70 ... 90 90 90]\n",
      "[      0       0       0 ... 1000989 1000989 1000989]\n",
      "[540429 554898 470288 ... 569179 574204 578821]\n",
      "\n",
      "[70. 90. 70. ... 90. 90. 90.]\n",
      "[      0       0       0 ... 1000989 1000989 1000989]\n",
      "[540429 554898 470288 ... 569179 574204 578821]\n"
     ]
    }
   ],
   "source": [
    "print(R_test_coo.data)\n",
    "print(R_test_coo.row)\n",
    "print(R_test_coo.col)\n",
    "print(\"\")\n",
    "print(test_data)\n",
    "print(test_row)\n",
    "print(test_col)"
   ]
  },
  {
   "cell_type": "code",
   "execution_count": 12,
   "metadata": {},
   "outputs": [
    {
     "name": "stdout",
     "output_type": "stream",
     "text": [
      "100\n",
      "1000989\n",
      "624960\n",
      "\n",
      "0\n",
      "0\n",
      "2\n",
      "\n",
      "1000990\n",
      "1000990\n",
      "258694\n",
      "258694\n",
      "CPU times: user 9.86 s, sys: 60.1 ms, total: 9.92 s\n",
      "Wall time: 779 ms\n"
     ]
    }
   ],
   "source": [
    "%%time\n",
    "\n",
    "print(np.max(R_test_coo.data))\n",
    "print(np.max(R_test_coo.row))\n",
    "print(np.max(R_test_coo.col))\n",
    "print(\"\")\n",
    "print(np.min(R_test_coo.data))\n",
    "print(np.min(R_test_coo.row))\n",
    "print(np.min(R_test_coo.col))\n",
    "print(\"\")\n",
    "print(np.unique(test_user).size)\n",
    "print(np.unique(R_test_coo.row).size)\n",
    "print(np.unique(test_item).size)\n",
    "print(np.unique(R_test_coo.col).size)"
   ]
  },
  {
   "cell_type": "code",
   "execution_count": 13,
   "metadata": {},
   "outputs": [
    {
     "name": "stdout",
     "output_type": "stream",
     "text": [
      "CPU times: user 14min 29s, sys: 9.26 s, total: 14min 38s\n",
      "Wall time: 14min 33s\n"
     ]
    }
   ],
   "source": [
    "%%time\n",
    "\n",
    "R_train_coo = sparse.coo_matrix((train_rating, (train_user, train_item)))\n",
    "assert R_train_coo.nnz == nnz_train\n",
    "\n",
    "# 0-based to 1-based\n",
    "outfile_train = open(\"train.txt\", 'w')\n",
    "for i in range(nnz_train):\n",
    "    outfile_train.write(str(train_user[i] + 1) + \" \" + str(train_item[i] + 1) + \" \" + str(train_rating[i]) + \"\\n\")"
   ]
  },
  {
   "cell_type": "code",
   "execution_count": 14,
   "metadata": {},
   "outputs": [
    {
     "name": "stdout",
     "output_type": "stream",
     "text": [
      "CPU times: user 42.6 s, sys: 9.85 s, total: 52.4 s\n",
      "Wall time: 54.7 s\n"
     ]
    }
   ],
   "source": [
    "%%time\n",
    "\n",
    "# for training data, we need COO format to calculate training RMSE\n",
    "# we need CSR format R when calculate X from \\Theta\n",
    "# we need CSC format of R when calculating \\Theta from X\n",
    "R_train_coo.data.astype(np.float32).tofile('R_train_coo.data.bin')\n",
    "R_train_coo.row.tofile('R_train_coo.row.bin')\n",
    "R_train_coo.col.tofile('R_train_coo.col.bin')\n",
    "\n",
    "R_train_csr = R_train_coo.tocsr()\n",
    "R_train_csc = R_train_coo.tocsc()\n",
    "\n",
    "R_train_csr.data.astype(np.float32).tofile('R_train_csr.data.bin')\n",
    "R_train_csr.indices.tofile('R_train_csr.indices.bin')\n",
    "R_train_csr.indptr.tofile('R_train_csr.indptr.bin')\n",
    "R_train_csc.data.astype(np.float32).tofile('R_train_csc.data.bin')\n",
    "R_train_csc.indices.tofile('R_train_csc.indices.bin')\n",
    "R_train_csc.indptr.tofile('R_train_csc.indptr.bin')"
   ]
  },
  {
   "cell_type": "code",
   "execution_count": 15,
   "metadata": {},
   "outputs": [
    {
     "name": "stdout",
     "output_type": "stream",
     "text": [
      "CPU times: user 55.1 ms, sys: 4.78 s, total: 4.83 s\n",
      "Wall time: 1min 2s\n"
     ]
    }
   ],
   "source": [
    "%%time\n",
    "\n",
    "train_data = np.fromfile('R_train_coo.data.bin', dtype=np.float32)\n",
    "train_row = np.fromfile('R_train_coo.row.bin', dtype=np.int32)\n",
    "train_col = np.fromfile('R_train_coo.col.bin', dtype=np.int32)\n",
    "\n",
    "train_csc_data = np.fromfile('R_train_csc.data.bin', dtype=np.float32)\n",
    "train_csc_indices = np.fromfile('R_train_csc.indices.bin', dtype=np.int32)\n",
    "train_csc_indptr = np.fromfile('R_train_csc.indptr.bin', dtype=np.int32)\n",
    "\n",
    "train_csr_data = np.fromfile('R_train_csr.data.bin', dtype=np.float32)\n",
    "train_csr_indices = np.fromfile('R_train_csr.indices.bin', dtype=np.int32)\n",
    "train_csr_indptr = np.fromfile('R_train_csr.indptr.bin', dtype=np.int32)"
   ]
  },
  {
   "cell_type": "code",
   "execution_count": 16,
   "metadata": {},
   "outputs": [
    {
     "name": "stdout",
     "output_type": "stream",
     "text": [
      "[90 90 90 ... 80 90 90]\n",
      "[      0       0       0 ... 1000989 1000989 1000989]\n",
      "[507696 137915  22757 ... 531386 532569 556366]\n",
      "\n",
      "[90. 90. 90. ... 80. 90. 90.]\n",
      "[      0       0       0 ... 1000989 1000989 1000989]\n",
      "[507696 137915  22757 ... 531386 532569 556366]\n",
      "\n",
      "[90 90 70 ... 80 90 90]\n",
      "[  9101  22757  26137 ... 531386 532569 556366]\n",
      "[        0        41       270 ... 252800219 252800246 252800275]\n",
      "\n",
      "[90. 90. 70. ... 80. 90. 90.]\n",
      "[  9101  22757  26137 ... 531386 532569 556366]\n",
      "[        0        41       270 ... 252800219 252800246 252800275]\n",
      "\n",
      "[50 83 71 ... 90  0 90]\n",
      "[  2435 101039 208370 ... 951381 951516 987296]\n",
      "[        0        20        49 ... 252800191 252800246 252800275]\n",
      "\n",
      "[50. 83. 71. ... 90.  0. 90.]\n",
      "[  2435 101039 208370 ... 951381 951516 987296]\n",
      "[        0        20        49 ... 252800191 252800246 252800275]\n"
     ]
    }
   ],
   "source": [
    "print(R_train_coo.data)\n",
    "print(R_train_coo.row)\n",
    "print(R_train_coo.col)\n",
    "print(\"\")\n",
    "print(train_data)\n",
    "print(train_row)\n",
    "print(train_col)\n",
    "print(\"\")\n",
    "print(R_train_csr.data)\n",
    "print(R_train_csr.indices)\n",
    "print(R_train_csr.indptr)\n",
    "print(\"\")\n",
    "print(train_csr_data)\n",
    "print(train_csr_indices)\n",
    "print(train_csr_indptr)\n",
    "print(\"\")\n",
    "print(R_train_csc.data)\n",
    "print(R_train_csc.indices)\n",
    "print(R_train_csc.indptr)\n",
    "print(\"\")\n",
    "print(train_csc_data)\n",
    "print(train_csc_indices)\n",
    "print(train_csc_indptr)"
   ]
  },
  {
   "cell_type": "code",
   "execution_count": 17,
   "metadata": {},
   "outputs": [
    {
     "name": "stdout",
     "output_type": "stream",
     "text": [
      "100\n",
      "1000989\n",
      "624960\n",
      "\n",
      "0\n",
      "0\n",
      "0\n",
      "\n",
      "1000990\n",
      "1000990\n",
      "624961\n",
      "624961\n",
      "CPU times: user 58.8 s, sys: 11.5 s, total: 1min 10s\n",
      "Wall time: 47.5 s\n"
     ]
    }
   ],
   "source": [
    "%%time\n",
    "\n",
    "print(np.max(R_train_coo.data))\n",
    "print(np.max(R_train_coo.row))\n",
    "print(np.max(R_train_coo.col))\n",
    "print(\"\")\n",
    "print(np.min(R_train_coo.data))\n",
    "print(np.min(R_train_coo.row))\n",
    "print(np.min(R_train_coo.col))\n",
    "print(\"\")\n",
    "print(np.unique(train_user).size)\n",
    "print(np.unique(R_train_coo.row).size)\n",
    "print(np.unique(train_item).size)\n",
    "print(np.unique(R_train_coo.col).size)"
   ]
  },
  {
   "cell_type": "code",
   "execution_count": 18,
   "metadata": {},
   "outputs": [
    {
     "name": "stdout",
     "output_type": "stream",
     "text": [
      "write extra meta file\n",
      "CPU times: user 979 µs, sys: 43 µs, total: 1.02 ms\n",
      "Wall time: 3.88 ms\n"
     ]
    }
   ],
   "source": [
    "%%time\n",
    "print(\"write extra meta file\")\n",
    "\n",
    "outfile_meta = open(\"meta_modified_all\", 'w')\n",
    "outfile_meta.write(str(m) + \" \" + str(n) + \"\\n\" + str(nnz_train) + \"\\n\")\n",
    "outfile_meta.write(\"\"\"R_train_coo.data.bin\n",
    "R_train_coo.row.bin\n",
    "R_train_coo.col.bin\n",
    "R_train_csr.indptr.bin\n",
    "R_train_csr.indices.bin\n",
    "R_train_csr.data.bin\n",
    "R_train_csc.indptr.bin\n",
    "R_train_csc.indices.bin\n",
    "R_train_csc.data.bin\n",
    "\"\"\")\n",
    "outfile_meta.write(str(nnz_test) + \" \" + \"test.txt\\n\")"
   ]
  },
  {
   "cell_type": "code",
   "execution_count": 19,
   "metadata": {},
   "outputs": [
    {
     "name": "stdout",
     "output_type": "stream",
     "text": [
      "writing extra meta file\n",
      "CPU times: user 622 µs, sys: 0 ns, total: 622 µs\n",
      "Wall time: 1.22 ms\n"
     ]
    }
   ],
   "source": [
    "%%time\n",
    "print(\"writing extra meta file\")\n",
    "\n",
    "outfile_meta = open(\"meta\", 'w')\n",
    "outfile_meta.write(str(m) + \" \" + str(n) + \"\\n\")\n",
    "outfile_meta.write(str(nnz_train) + \" \" + \"train.txt\\n\")\n",
    "outfile_meta.write(str(nnz_test) + \" \" + \"test.txt\\n\")"
   ]
  }
 ],
 "metadata": {
  "kernelspec": {
   "display_name": "Python 3",
   "language": "python",
   "name": "python3"
  },
  "language_info": {
   "codemirror_mode": {
    "name": "ipython",
    "version": 3
   },
   "file_extension": ".py",
   "mimetype": "text/x-python",
   "name": "python",
   "nbconvert_exporter": "python",
   "pygments_lexer": "ipython3",
   "version": "3.7.1"
  }
 },
 "nbformat": 4,
 "nbformat_minor": 2
}
