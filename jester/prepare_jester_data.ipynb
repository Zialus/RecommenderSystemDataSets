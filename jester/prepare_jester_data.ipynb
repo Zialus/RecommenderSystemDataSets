{
 "cells": [
  {
   "cell_type": "code",
   "execution_count": 1,
   "metadata": {},
   "outputs": [],
   "source": [
    "import numpy as np\n",
    "from scipy import sparse"
   ]
  },
  {
   "cell_type": "code",
   "execution_count": 2,
   "metadata": {},
   "outputs": [],
   "source": [
    "train_data_file = \"jester_train.csv\"\n",
    "test_data_file = \"dont_use.csv\""
   ]
  },
  {
   "cell_type": "code",
   "execution_count": 3,
   "metadata": {},
   "outputs": [
    {
     "name": "stdout",
     "output_type": "stream",
     "text": [
      "preparing test data\n",
      "preparing training data\n"
     ]
    }
   ],
   "source": [
    "# jester file should look like\n",
    "'''\n",
    "7302,29,7.156\n",
    "61815,46,6.375\n",
    "31128,96,2.281\n",
    "36125,147,-1.781\n",
    "18007,60,2.188\n",
    "7387,99,3.594\n",
    "12007,18,-2.094\n",
    "'''\n",
    "\n",
    "m = 63978\n",
    "n = 150\n",
    "nnz_train = 1000000\n",
    "nnz_test = 761439\n",
    "\n",
    "print(\"preparing test data\")\n",
    "test_user, test_item, test_rating = np.loadtxt(test_data_file, delimiter=',',\n",
    "                                               dtype=[('f0', np.int32), ('f1', np.int32), ('f2', np.float)],\n",
    "                                               skiprows=1, unpack=True)\n",
    "\n",
    "print(\"preparing training data\")\n",
    "train_user, train_item, train_rating = np.loadtxt(train_data_file, delimiter=',',\n",
    "                                                  dtype=[('f0', np.int32), ('f1', np.int32), ('f2', np.float)],\n",
    "                                                  skiprows=1, unpack=True)"
   ]
  },
  {
   "cell_type": "code",
   "execution_count": 4,
   "metadata": {},
   "outputs": [
    {
     "name": "stdout",
     "output_type": "stream",
     "text": [
      "[30762 54667 38515 ... 63826 41898  1862]\n",
      "[ 24 128  68 ... 108  42  78]\n",
      "[-0.188  9.844  8.5   ...  2.031 -1.25  -7.062]\n",
      "\n",
      "63978\n",
      "150\n",
      "10.0\n",
      "\n",
      "1\n",
      "5\n",
      "-10.0\n",
      "\n",
      "57249\n",
      "140\n",
      "641\n",
      "\n",
      "761439\n"
     ]
    }
   ],
   "source": [
    "print(test_user)\n",
    "print(test_item)\n",
    "print(test_rating)\n",
    "print(\"\")\n",
    "print(np.max(test_user))\n",
    "print(np.max(test_item))\n",
    "print(np.max(test_rating))\n",
    "print(\"\")\n",
    "print(np.min(test_user))\n",
    "print(np.min(test_item))\n",
    "print(np.min(test_rating))\n",
    "print(\"\")\n",
    "print(np.unique(test_user).size)\n",
    "print(np.unique(test_item).size)\n",
    "print(np.unique(test_rating).size)\n",
    "print(\"\")\n",
    "print(test_user.size)\n",
    "\n",
    "assert test_user.size == nnz_test"
   ]
  },
  {
   "cell_type": "code",
   "execution_count": 5,
   "metadata": {},
   "outputs": [
    {
     "name": "stdout",
     "output_type": "stream",
     "text": [
      "[ 7302 61815 31128 ... 40650 45014 22566]\n",
      "[29 46 96 ... 98 19  7]\n",
      "[ 7.156  6.375  2.281 ...  6.188 -4.906  1.781]\n",
      "\n",
      "63978\n",
      "150\n",
      "10.0\n",
      "\n",
      "1\n",
      "5\n",
      "-10.0\n",
      "\n",
      "58125\n",
      "140\n",
      "641\n",
      "\n",
      "1000000\n"
     ]
    }
   ],
   "source": [
    "print(train_user)\n",
    "print(train_item)\n",
    "print(train_rating)\n",
    "print(\"\")\n",
    "print(np.max(train_user))\n",
    "print(np.max(train_item))\n",
    "print(np.max(train_rating))\n",
    "print(\"\")\n",
    "print(np.min(train_user))\n",
    "print(np.min(train_item))\n",
    "print(np.min(train_rating))\n",
    "print(\"\")\n",
    "print(np.unique(train_user).size)\n",
    "print(np.unique(train_item).size)\n",
    "print(np.unique(train_rating).size)\n",
    "print(\"\")\n",
    "print(train_user.size)\n",
    "\n",
    "assert train_user.size == nnz_train\n",
    "assert np.max(train_user) == m\n",
    "assert np.max(train_item) == n"
   ]
  },
  {
   "cell_type": "code",
   "execution_count": 6,
   "metadata": {},
   "outputs": [],
   "source": [
    "# 1-based to 0-based\n",
    "R_test_coo = sparse.coo_matrix((test_rating, (test_user, test_item)))\n",
    "assert R_test_coo.nnz == nnz_test\n",
    "\n",
    "outfile_test = open(\"test.txt\", 'w')\n",
    "for i in range(nnz_test):\n",
    "    outfile_test.write(str(test_user[i]) + \" \" + str(test_item[i]) + \" \" + str(test_rating[i]) + \"\\n\")"
   ]
  },
  {
   "cell_type": "code",
   "execution_count": 7,
   "metadata": {},
   "outputs": [],
   "source": [
    "# for test data, we need COO format to calculate test RMSE\n",
    "\n",
    "R_test_coo.data.astype(np.float32).tofile('R_test_coo.data.bin')\n",
    "R_test_coo.row.tofile('R_test_coo.row.bin')\n",
    "R_test_coo.col.tofile('R_test_coo.col.bin')\n",
    "\n",
    "test_data = np.fromfile('R_test_coo.data.bin', dtype=np.float32)\n",
    "test_row = np.fromfile('R_test_coo.row.bin', dtype=np.int32)\n",
    "test_col = np.fromfile('R_test_coo.col.bin', dtype=np.int32)"
   ]
  },
  {
   "cell_type": "code",
   "execution_count": 8,
   "metadata": {},
   "outputs": [
    {
     "name": "stdout",
     "output_type": "stream",
     "text": [
      "[-0.188  9.844  8.5   ...  2.031 -1.25  -7.062]\n",
      "[30762 54667 38515 ... 63826 41898  1862]\n",
      "[ 24 128  68 ... 108  42  78]\n",
      "\n",
      "[-0.188  9.844  8.5   ...  2.031 -1.25  -7.062]\n",
      "[30762 54667 38515 ... 63826 41898  1862]\n",
      "[ 24 128  68 ... 108  42  78]\n"
     ]
    }
   ],
   "source": [
    "print(R_test_coo.data)\n",
    "print(R_test_coo.row)\n",
    "print(R_test_coo.col)\n",
    "print(\"\")\n",
    "print(test_data)\n",
    "print(test_row)\n",
    "print(test_col)"
   ]
  },
  {
   "cell_type": "code",
   "execution_count": 9,
   "metadata": {},
   "outputs": [],
   "source": [
    "# 1-based to 0-based\n",
    "R_train_coo = sparse.coo_matrix((train_rating, (train_user, train_item)))\n",
    "assert R_train_coo.nnz == nnz_train\n",
    "\n",
    "outfile_train = open(\"train.txt\", 'w')\n",
    "for i in range(nnz_train):\n",
    "    outfile_train.write(str(train_user[i]) + \" \" + str(train_item[i]) + \" \" + str(train_rating[i]) + \"\\n\")"
   ]
  },
  {
   "cell_type": "code",
   "execution_count": 10,
   "metadata": {},
   "outputs": [],
   "source": [
    "# for training data, we need COO format to calculate training RMSE\n",
    "# we need CSR format R when calculate X from \\Theta\n",
    "# we need CSC format of R when calculating \\Theta from X\n",
    "R_train_coo.data.astype(np.float32).tofile('R_train_coo.data.bin')\n",
    "R_train_coo.row.tofile('R_train_coo.row.bin')\n",
    "R_train_coo.col.tofile('R_train_coo.col.bin')\n",
    "\n",
    "train_data = np.fromfile('R_train_coo.data.bin', dtype=np.float32)\n",
    "train_row = np.fromfile('R_train_coo.row.bin', dtype=np.int32)\n",
    "train_col = np.fromfile('R_train_coo.col.bin', dtype=np.int32)\n",
    "\n",
    "R_train_csr = R_train_coo.tocsr()\n",
    "R_train_csc = R_train_coo.tocsc()\n",
    "\n",
    "R_train_csr.data.astype(np.float32).tofile('R_train_csr.data.bin')\n",
    "R_train_csr.indices.tofile('R_train_csr.indices.bin')\n",
    "R_train_csr.indptr.tofile('R_train_csr.indptr.bin')\n",
    "R_train_csc.data.astype(np.float32).tofile('R_train_csc.data.bin')\n",
    "R_train_csc.indices.tofile('R_train_csc.indices.bin')\n",
    "R_train_csc.indptr.tofile('R_train_csc.indptr.bin')\n",
    "\n",
    "train_csc = np.fromfile('R_train_csc.data.bin', dtype=np.float32)\n",
    "train_csr = np.fromfile('R_train_csr.data.bin', dtype=np.float32)"
   ]
  },
  {
   "cell_type": "code",
   "execution_count": 11,
   "metadata": {},
   "outputs": [
    {
     "name": "stdout",
     "output_type": "stream",
     "text": [
      "10.0\n",
      "63978\n",
      "150\n",
      "\n",
      "-10.0\n",
      "1\n",
      "5\n",
      "\n",
      "[ 7.156  6.375  2.281 ...  6.188 -4.906  1.781]\n",
      "[ 7302 61815 31128 ... 40650 45014 22566]\n",
      "[29 46 96 ... 98 19  7]\n",
      "\n",
      "[ 7.156  6.375  2.281 ...  6.188 -4.906  1.781]\n",
      "[ 7302 61815 31128 ... 40650 45014 22566]\n",
      "[29 46 96 ... 98 19  7]\n",
      "\n",
      "[-9.281 -9.281  0.875 ...  8.5    8.375  8.938]\n",
      "[      0       0      32 ...  999922  999927 1000000]\n",
      "[  7   8  15 ... 144 145 146]\n",
      "\n",
      "[-9.281 -9.281  0.875 ...  8.5    8.375  8.938]\n",
      "\n",
      "[-9.844 -5.812 -0.031 ...  1.531  2.469 -1.188]\n",
      "[      0       0       0       0       0       0     373     373   33963\n",
      "   66622   66622   66622   66622   66622   98617   98617  129758  160613\n",
      "  190717  220193  248948  249260  255797  259931  263747  266331  271156\n",
      "  276508  276708  282253  290403  293467  293606  306496  308995  314178\n",
      "  325984  335118  338663  343362  348364  352418  356222  361380  361477\n",
      "  364268  368271  373764  382291  388588  396823  406283  406389  406478\n",
      "  419596  429164  432299  439361  442290  445005  448426  451869  451998\n",
      "  461282  468726  471501  477347  486441  489571  498434  508171  512609\n",
      "  515469  526518  526618  529198  532203  540977  545026  550243  553033\n",
      "  553131  558493  562708  567883  572099  575036  579058  585811  591241\n",
      "  605975  609380  615588  621686  629819  634593  639397  645175  653148\n",
      "  658068  662430  662519  665376  669300  672680  683814  696300  708926\n",
      "  715332  724775  730277  736258  744502  750982  756047  770722  775973\n",
      "  776073  786560  793171  803355  809628  817066  822608  825467  827940\n",
      "  834108  843439  854945  860816  872004  878207  881913  891129  896271\n",
      "  905161  911097  914452  919185  928741  935201  938342  940676  945822\n",
      "  954073  959574  966670  969511  975016  983449  989653 1000000]\n",
      "[    3     4     6 ... 63950 63955 63960]\n",
      "\n",
      "[-9.844 -5.812 -0.031 ...  1.531  2.469 -1.188]\n",
      "\n",
      "58125\n",
      "58125\n",
      "140\n",
      "140\n"
     ]
    }
   ],
   "source": [
    "print(np.max(R_train_coo.data))\n",
    "print(np.max(R_train_coo.row))\n",
    "print(np.max(R_train_coo.col))\n",
    "print(\"\")\n",
    "print(np.min(R_train_coo.data))\n",
    "print(np.min(R_train_coo.row))\n",
    "print(np.min(R_train_coo.col))\n",
    "print(\"\")\n",
    "print(R_train_coo.data)\n",
    "print(R_train_coo.row)\n",
    "print(R_train_coo.col)\n",
    "print(\"\")\n",
    "print(train_data)\n",
    "print(train_row)\n",
    "print(train_col)\n",
    "print(\"\")\n",
    "print(R_train_csr.data)\n",
    "print(R_train_csr.indptr)\n",
    "print(R_train_csr.indices)\n",
    "print(\"\")\n",
    "print(train_csr)\n",
    "print(\"\")\n",
    "print(R_train_csc.data)\n",
    "print(R_train_csc.indptr)\n",
    "print(R_train_csc.indices)\n",
    "print(\"\")\n",
    "print(train_csc)\n",
    "print(\"\")\n",
    "print(np.unique(train_user).size)\n",
    "print(np.unique(R_train_coo.row).size)\n",
    "print(np.unique(train_item).size)\n",
    "print(np.unique(R_train_coo.col).size)"
   ]
  },
  {
   "cell_type": "code",
   "execution_count": 12,
   "metadata": {},
   "outputs": [
    {
     "name": "stdout",
     "output_type": "stream",
     "text": [
      "write extra meta file\n"
     ]
    },
    {
     "data": {
      "text/plain": [
       "16"
      ]
     },
     "execution_count": 12,
     "metadata": {},
     "output_type": "execute_result"
    }
   ],
   "source": [
    "print(\"write extra meta file\")\n",
    "\n",
    "outfile_meta = open(\"meta_modified_all\", 'w')\n",
    "outfile_meta.write(str(m) + \" \" + str(n) + \"\\n\" + str(nnz_train) + \"\\n\")\n",
    "outfile_meta.write(\"\"\"R_train_coo.data.bin\n",
    "R_train_coo.row.bin\n",
    "R_train_coo.col.bin\n",
    "R_train_csr.indptr.bin\n",
    "R_train_csr.indices.bin\n",
    "R_train_csr.data.bin\n",
    "R_train_csc.indptr.bin\n",
    "R_train_csc.indices.bin\n",
    "R_train_csc.data.bin\n",
    "\"\"\")\n",
    "outfile_meta.write(str(nnz_test) + \" \" + \"test.txt\\n\")"
   ]
  },
  {
   "cell_type": "code",
   "execution_count": 13,
   "metadata": {},
   "outputs": [
    {
     "name": "stdout",
     "output_type": "stream",
     "text": [
      "writing extra meta file\n"
     ]
    },
    {
     "data": {
      "text/plain": [
       "16"
      ]
     },
     "execution_count": 13,
     "metadata": {},
     "output_type": "execute_result"
    }
   ],
   "source": [
    "print(\"writing extra meta file\")\n",
    "\n",
    "outfile_meta = open(\"meta\", 'w')\n",
    "outfile_meta.write(str(m) + \" \" + str(n) + \"\\n\")\n",
    "outfile_meta.write(str(nnz_train) + \" \" + \"train.txt\\n\")\n",
    "outfile_meta.write(str(nnz_test) + \" \" + \"test.txt\\n\")"
   ]
  }
 ],
 "metadata": {
  "kernelspec": {
   "display_name": "Python 3",
   "language": "python",
   "name": "python3"
  },
  "language_info": {
   "codemirror_mode": {
    "name": "ipython",
    "version": 3
   },
   "file_extension": ".py",
   "mimetype": "text/x-python",
   "name": "python",
   "nbconvert_exporter": "python",
   "pygments_lexer": "ipython3",
   "version": "3.6.4"
  }
 },
 "nbformat": 4,
 "nbformat_minor": 2
}
