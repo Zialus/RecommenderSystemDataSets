{
 "cells": [
  {
   "cell_type": "code",
   "execution_count": 1,
   "metadata": {},
   "outputs": [
    {
     "name": "stdout",
     "output_type": "stream",
     "text": [
      "CPU times: user 52.4 ms, sys: 25.7 ms, total: 78.1 ms\n",
      "Wall time: 176 ms\n"
     ]
    }
   ],
   "source": [
    "%%time\n",
    "\n",
    "import numpy as np\n",
    "from scipy import sparse"
   ]
  },
  {
   "cell_type": "code",
   "execution_count": 2,
   "metadata": {},
   "outputs": [
    {
     "name": "stdout",
     "output_type": "stream",
     "text": [
      "preparing test data\n",
      "preparing training data\n",
      "CPU times: user 7.57 s, sys: 114 ms, total: 7.69 s\n",
      "Wall time: 7.67 s\n"
     ]
    }
   ],
   "source": [
    "%%time\n",
    "\n",
    "# jester file should look like\n",
    "'''\n",
    "7302,29,7.156\n",
    "61815,46,6.375\n",
    "31128,96,2.281\n",
    "36125,147,-1.781\n",
    "18007,60,2.188\n",
    "7387,99,3.594\n",
    "12007,18,-2.094\n",
    "'''\n",
    "\n",
    "m = 63_978\n",
    "n = 150\n",
    "nnz_train = 1_000_000\n",
    "nnz_test = 761_439\n",
    "\n",
    "train_data_file = \"jester_train.csv\"\n",
    "test_data_file = \"dont_use.csv\"\n",
    "\n",
    "print(\"preparing test data\")\n",
    "test_user, test_item, test_rating = np.loadtxt(test_data_file, delimiter=',',\n",
    "                                               dtype=[('f0', np.int32), ('f1', np.int32), ('f2', np.float)],\n",
    "                                               skiprows=1, unpack=True)\n",
    "\n",
    "print(\"preparing training data\")\n",
    "train_user, train_item, train_rating = np.loadtxt(train_data_file, delimiter=',',\n",
    "                                                  dtype=[('f0', np.int32), ('f1', np.int32), ('f2', np.float)],\n",
    "                                                  skiprows=1, unpack=True)"
   ]
  },
  {
   "cell_type": "code",
   "execution_count": 3,
   "metadata": {},
   "outputs": [
    {
     "name": "stdout",
     "output_type": "stream",
     "text": [
      "[30762 54667 38515 ... 63826 41898  1862]\n",
      "[ 24 128  68 ... 108  42  78]\n",
      "[-0.188  9.844  8.5   ...  2.031 -1.25  -7.062]\n",
      "\n",
      "63978\n",
      "150\n",
      "10.0\n",
      "\n",
      "1\n",
      "5\n",
      "-10.0\n",
      "\n",
      "57249\n",
      "140\n",
      "641\n",
      "\n",
      "761439\n",
      "CPU times: user 120 ms, sys: 16 ms, total: 136 ms\n",
      "Wall time: 130 ms\n"
     ]
    }
   ],
   "source": [
    "%%time\n",
    "\n",
    "print(test_user)\n",
    "print(test_item)\n",
    "print(test_rating)\n",
    "print(\"\")\n",
    "print(np.max(test_user))\n",
    "print(np.max(test_item))\n",
    "print(np.max(test_rating))\n",
    "print(\"\")\n",
    "print(np.min(test_user))\n",
    "print(np.min(test_item))\n",
    "print(np.min(test_rating))\n",
    "print(\"\")\n",
    "print(np.unique(test_user).size)\n",
    "print(np.unique(test_item).size)\n",
    "print(np.unique(test_rating).size)\n",
    "print(\"\")\n",
    "print(test_user.size)\n",
    "\n",
    "assert test_user.size == nnz_test"
   ]
  },
  {
   "cell_type": "code",
   "execution_count": 4,
   "metadata": {},
   "outputs": [
    {
     "name": "stdout",
     "output_type": "stream",
     "text": [
      "[ 7302 61815 31128 ... 40650 45014 22566]\n",
      "[29 46 96 ... 98 19  7]\n",
      "[ 7.156  6.375  2.281 ...  6.188 -4.906  1.781]\n",
      "\n",
      "63978\n",
      "150\n",
      "10.0\n",
      "\n",
      "1\n",
      "5\n",
      "-10.0\n",
      "\n",
      "58125\n",
      "140\n",
      "641\n",
      "\n",
      "1000000\n",
      "CPU times: user 166 ms, sys: 8.05 ms, total: 174 ms\n",
      "Wall time: 167 ms\n"
     ]
    }
   ],
   "source": [
    "%%time\n",
    "\n",
    "print(train_user)\n",
    "print(train_item)\n",
    "print(train_rating)\n",
    "print(\"\")\n",
    "print(np.max(train_user))\n",
    "print(np.max(train_item))\n",
    "print(np.max(train_rating))\n",
    "print(\"\")\n",
    "print(np.min(train_user))\n",
    "print(np.min(train_item))\n",
    "print(np.min(train_rating))\n",
    "print(\"\")\n",
    "print(np.unique(train_user).size)\n",
    "print(np.unique(train_item).size)\n",
    "print(np.unique(train_rating).size)\n",
    "print(\"\")\n",
    "print(train_user.size)\n",
    "\n",
    "assert train_user.size == nnz_train\n",
    "assert np.max(train_user) == m\n",
    "assert np.max(train_item) == n"
   ]
  },
  {
   "cell_type": "code",
   "execution_count": 5,
   "metadata": {},
   "outputs": [
    {
     "name": "stdout",
     "output_type": "stream",
     "text": [
      "CPU times: user 1.72 s, sys: 23.8 ms, total: 1.74 s\n",
      "Wall time: 1.72 s\n"
     ]
    }
   ],
   "source": [
    "%%time\n",
    "\n",
    "#1-based to 0-based\n",
    "R_test_coo = sparse.coo_matrix((test_rating, (test_user - 1, test_item - 1)))\n",
    "assert R_test_coo.nnz == nnz_test\n",
    "\n",
    "outfile_test = open(\"test.txt\", 'w')\n",
    "for i in range(nnz_test):\n",
    "    outfile_test.write(str(test_user[i]) + \" \" + str(test_item[i]) + \" \" + str(test_rating[i]) + \"\\n\")"
   ]
  },
  {
   "cell_type": "code",
   "execution_count": 6,
   "metadata": {},
   "outputs": [
    {
     "name": "stdout",
     "output_type": "stream",
     "text": [
      "CPU times: user 2.93 ms, sys: 12.1 ms, total: 15 ms\n",
      "Wall time: 17.2 ms\n"
     ]
    }
   ],
   "source": [
    "%%time\n",
    "\n",
    "# for test data, we need COO format to calculate test RMSE\n",
    "\n",
    "R_test_coo.data.astype(np.float32).tofile('R_test_coo.data.bin')\n",
    "R_test_coo.row.tofile('R_test_coo.row.bin')\n",
    "R_test_coo.col.tofile('R_test_coo.col.bin')\n",
    "\n",
    "test_data = np.fromfile('R_test_coo.data.bin', dtype=np.float32)\n",
    "test_row = np.fromfile('R_test_coo.row.bin', dtype=np.int32)\n",
    "test_col = np.fromfile('R_test_coo.col.bin', dtype=np.int32)"
   ]
  },
  {
   "cell_type": "code",
   "execution_count": 7,
   "metadata": {},
   "outputs": [
    {
     "name": "stdout",
     "output_type": "stream",
     "text": [
      "[-0.188  9.844  8.5   ...  2.031 -1.25  -7.062]\n",
      "[30761 54666 38514 ... 63825 41897  1861]\n",
      "[ 23 127  67 ... 107  41  77]\n",
      "\n",
      "[-0.188  9.844  8.5   ...  2.031 -1.25  -7.062]\n",
      "[30761 54666 38514 ... 63825 41897  1861]\n",
      "[ 23 127  67 ... 107  41  77]\n"
     ]
    }
   ],
   "source": [
    "print(R_test_coo.data)\n",
    "print(R_test_coo.row)\n",
    "print(R_test_coo.col)\n",
    "print(\"\")\n",
    "print(test_data)\n",
    "print(test_row)\n",
    "print(test_col)"
   ]
  },
  {
   "cell_type": "code",
   "execution_count": 8,
   "metadata": {},
   "outputs": [
    {
     "name": "stdout",
     "output_type": "stream",
     "text": [
      "10.0\n",
      "63977\n",
      "149\n",
      "\n",
      "-10.0\n",
      "0\n",
      "4\n",
      "\n",
      "57249\n",
      "57249\n",
      "140\n",
      "140\n",
      "CPU times: user 2.71 s, sys: 7.69 ms, total: 2.72 s\n",
      "Wall time: 302 ms\n"
     ]
    }
   ],
   "source": [
    "%%time\n",
    "\n",
    "print(np.max(R_test_coo.data))\n",
    "print(np.max(R_test_coo.row))\n",
    "print(np.max(R_test_coo.col))\n",
    "print(\"\")\n",
    "print(np.min(R_test_coo.data))\n",
    "print(np.min(R_test_coo.row))\n",
    "print(np.min(R_test_coo.col))\n",
    "print(\"\")\n",
    "print(np.unique(test_user).size)\n",
    "print(np.unique(R_test_coo.row).size)\n",
    "print(np.unique(test_item).size)\n",
    "print(np.unique(R_test_coo.col).size)"
   ]
  },
  {
   "cell_type": "code",
   "execution_count": 9,
   "metadata": {},
   "outputs": [
    {
     "name": "stdout",
     "output_type": "stream",
     "text": [
      "CPU times: user 4.68 s, sys: 32.3 ms, total: 4.71 s\n",
      "Wall time: 2.35 s\n"
     ]
    }
   ],
   "source": [
    "%%time\n",
    "\n",
    "#1-based to 0-based\n",
    "R_train_coo = sparse.coo_matrix((train_rating, (train_user - 1, train_item - 1)))\n",
    "assert R_train_coo.nnz == nnz_train\n",
    "\n",
    "outfile_train = open(\"train.txt\", 'w')\n",
    "for i in range(nnz_train):\n",
    "    outfile_train.write(str(train_user[i]) + \" \" + str(train_item[i]) + \" \" + str(train_rating[i]) + \"\\n\")"
   ]
  },
  {
   "cell_type": "code",
   "execution_count": 10,
   "metadata": {},
   "outputs": [
    {
     "name": "stdout",
     "output_type": "stream",
     "text": [
      "CPU times: user 175 ms, sys: 28.1 ms, total: 203 ms\n",
      "Wall time: 205 ms\n"
     ]
    }
   ],
   "source": [
    "%%time\n",
    "\n",
    "# for training data, we need COO format to calculate training RMSE\n",
    "# we need CSR format R when calculate X from \\Theta\n",
    "# we need CSC format of R when calculating \\Theta from X\n",
    "R_train_coo.data.astype(np.float32).tofile('R_train_coo.data.bin')\n",
    "R_train_coo.row.tofile('R_train_coo.row.bin')\n",
    "R_train_coo.col.tofile('R_train_coo.col.bin')\n",
    "\n",
    "R_train_csr = R_train_coo.tocsr()\n",
    "R_train_csc = R_train_coo.tocsc()\n",
    "\n",
    "R_train_csr.data.astype(np.float32).tofile('R_train_csr.data.bin')\n",
    "R_train_csr.indices.tofile('R_train_csr.indices.bin')\n",
    "R_train_csr.indptr.tofile('R_train_csr.indptr.bin')\n",
    "R_train_csc.data.astype(np.float32).tofile('R_train_csc.data.bin')\n",
    "R_train_csc.indices.tofile('R_train_csc.indices.bin')\n",
    "R_train_csc.indptr.tofile('R_train_csc.indptr.bin')"
   ]
  },
  {
   "cell_type": "code",
   "execution_count": 11,
   "metadata": {},
   "outputs": [
    {
     "name": "stdout",
     "output_type": "stream",
     "text": [
      "CPU times: user 0 ns, sys: 15.9 ms, total: 15.9 ms\n",
      "Wall time: 14.7 ms\n"
     ]
    }
   ],
   "source": [
    "%%time\n",
    "\n",
    "train_data = np.fromfile('R_train_coo.data.bin', dtype=np.float32)\n",
    "train_row = np.fromfile('R_train_coo.row.bin', dtype=np.int32)\n",
    "train_col = np.fromfile('R_train_coo.col.bin', dtype=np.int32)\n",
    "\n",
    "train_csc_data = np.fromfile('R_train_csc.data.bin', dtype=np.float32)\n",
    "train_csc_indices = np.fromfile('R_train_csc.indices.bin', dtype=np.int32)\n",
    "train_csc_indptr = np.fromfile('R_train_csc.indptr.bin', dtype=np.int32)\n",
    "\n",
    "train_csr_data = np.fromfile('R_train_csr.data.bin', dtype=np.float32)\n",
    "train_csr_indices = np.fromfile('R_train_csr.indices.bin', dtype=np.int32)\n",
    "train_csr_indptr = np.fromfile('R_train_csr.indptr.bin', dtype=np.int32)"
   ]
  },
  {
   "cell_type": "code",
   "execution_count": 12,
   "metadata": {},
   "outputs": [
    {
     "name": "stdout",
     "output_type": "stream",
     "text": [
      "[ 7.156  6.375  2.281 ...  6.188 -4.906  1.781]\n",
      "[ 7301 61814 31127 ... 40649 45013 22565]\n",
      "[28 45 95 ... 97 18  6]\n",
      "\n",
      "[ 7.156  6.375  2.281 ...  6.188 -4.906  1.781]\n",
      "[ 7301 61814 31127 ... 40649 45013 22565]\n",
      "[28 45 95 ... 97 18  6]\n",
      "\n",
      "[-9.281 -9.281  0.875 ...  8.5    8.375  8.938]\n",
      "[  6   7  14 ... 143 144 145]\n",
      "[      0      32      48 ...  999922  999927 1000000]\n",
      "\n",
      "[-9.281 -9.281  0.875 ...  8.5    8.375  8.938]\n",
      "[  6   7  14 ... 143 144 145]\n",
      "[      0      32      48 ...  999922  999927 1000000]\n",
      "\n",
      "[-9.844 -5.812 -0.031 ...  1.531  2.469 -1.188]\n",
      "[    2     3     5 ... 63949 63954 63959]\n",
      "[      0       0       0       0       0     373     373   33963   66622\n",
      "   66622   66622   66622   66622   98617   98617  129758  160613  190717\n",
      "  220193  248948  249260  255797  259931  263747  266331  271156  276508\n",
      "  276708  282253  290403  293467  293606  306496  308995  314178  325984\n",
      "  335118  338663  343362  348364  352418  356222  361380  361477  364268\n",
      "  368271  373764  382291  388588  396823  406283  406389  406478  419596\n",
      "  429164  432299  439361  442290  445005  448426  451869  451998  461282\n",
      "  468726  471501  477347  486441  489571  498434  508171  512609  515469\n",
      "  526518  526618  529198  532203  540977  545026  550243  553033  553131\n",
      "  558493  562708  567883  572099  575036  579058  585811  591241  605975\n",
      "  609380  615588  621686  629819  634593  639397  645175  653148  658068\n",
      "  662430  662519  665376  669300  672680  683814  696300  708926  715332\n",
      "  724775  730277  736258  744502  750982  756047  770722  775973  776073\n",
      "  786560  793171  803355  809628  817066  822608  825467  827940  834108\n",
      "  843439  854945  860816  872004  878207  881913  891129  896271  905161\n",
      "  911097  914452  919185  928741  935201  938342  940676  945822  954073\n",
      "  959574  966670  969511  975016  983449  989653 1000000]\n",
      "\n",
      "[-9.844 -5.812 -0.031 ...  1.531  2.469 -1.188]\n",
      "[    2     3     5 ... 63949 63954 63959]\n",
      "[      0       0       0       0       0     373     373   33963   66622\n",
      "   66622   66622   66622   66622   98617   98617  129758  160613  190717\n",
      "  220193  248948  249260  255797  259931  263747  266331  271156  276508\n",
      "  276708  282253  290403  293467  293606  306496  308995  314178  325984\n",
      "  335118  338663  343362  348364  352418  356222  361380  361477  364268\n",
      "  368271  373764  382291  388588  396823  406283  406389  406478  419596\n",
      "  429164  432299  439361  442290  445005  448426  451869  451998  461282\n",
      "  468726  471501  477347  486441  489571  498434  508171  512609  515469\n",
      "  526518  526618  529198  532203  540977  545026  550243  553033  553131\n",
      "  558493  562708  567883  572099  575036  579058  585811  591241  605975\n",
      "  609380  615588  621686  629819  634593  639397  645175  653148  658068\n",
      "  662430  662519  665376  669300  672680  683814  696300  708926  715332\n",
      "  724775  730277  736258  744502  750982  756047  770722  775973  776073\n",
      "  786560  793171  803355  809628  817066  822608  825467  827940  834108\n",
      "  843439  854945  860816  872004  878207  881913  891129  896271  905161\n",
      "  911097  914452  919185  928741  935201  938342  940676  945822  954073\n",
      "  959574  966670  969511  975016  983449  989653 1000000]\n"
     ]
    }
   ],
   "source": [
    "print(R_train_coo.data)\n",
    "print(R_train_coo.row)\n",
    "print(R_train_coo.col)\n",
    "print(\"\")\n",
    "print(train_data)\n",
    "print(train_row)\n",
    "print(train_col)\n",
    "print(\"\")\n",
    "print(R_train_csr.data)\n",
    "print(R_train_csr.indices)\n",
    "print(R_train_csr.indptr)\n",
    "print(\"\")\n",
    "print(train_csr_data)\n",
    "print(train_csr_indices)\n",
    "print(train_csr_indptr)\n",
    "print(\"\")\n",
    "print(R_train_csc.data)\n",
    "print(R_train_csc.indices)\n",
    "print(R_train_csc.indptr)\n",
    "print(\"\")\n",
    "print(train_csc_data)\n",
    "print(train_csc_indices)\n",
    "print(train_csc_indptr)"
   ]
  },
  {
   "cell_type": "code",
   "execution_count": 13,
   "metadata": {},
   "outputs": [
    {
     "name": "stdout",
     "output_type": "stream",
     "text": [
      "10.0\n",
      "63977\n",
      "149\n",
      "\n",
      "-10.0\n",
      "0\n",
      "4\n",
      "\n",
      "58125\n",
      "58125\n",
      "140\n",
      "140\n",
      "CPU times: user 2.8 s, sys: 3.48 ms, total: 2.8 s\n",
      "Wall time: 273 ms\n"
     ]
    }
   ],
   "source": [
    "%%time\n",
    "\n",
    "print(np.max(R_train_coo.data))\n",
    "print(np.max(R_train_coo.row))\n",
    "print(np.max(R_train_coo.col))\n",
    "print(\"\")\n",
    "print(np.min(R_train_coo.data))\n",
    "print(np.min(R_train_coo.row))\n",
    "print(np.min(R_train_coo.col))\n",
    "print(\"\")\n",
    "print(np.unique(train_user).size)\n",
    "print(np.unique(R_train_coo.row).size)\n",
    "print(np.unique(train_item).size)\n",
    "print(np.unique(R_train_coo.col).size)"
   ]
  },
  {
   "cell_type": "code",
   "execution_count": 14,
   "metadata": {},
   "outputs": [
    {
     "name": "stdout",
     "output_type": "stream",
     "text": [
      "write extra meta file\n",
      "CPU times: user 1.67 ms, sys: 8 µs, total: 1.67 ms\n",
      "Wall time: 1.07 ms\n"
     ]
    }
   ],
   "source": [
    "%%time\n",
    "\n",
    "print(\"write extra meta file\")\n",
    "\n",
    "outfile_meta = open(\"meta_modified_all\", 'w')\n",
    "outfile_meta.write(str(m) + \" \" + str(n) + \"\\n\" + str(nnz_train) + \"\\n\")\n",
    "outfile_meta.write(\"\"\"R_train_coo.data.bin\n",
    "R_train_coo.row.bin\n",
    "R_train_coo.col.bin\n",
    "R_train_csr.indptr.bin\n",
    "R_train_csr.indices.bin\n",
    "R_train_csr.data.bin\n",
    "R_train_csc.indptr.bin\n",
    "R_train_csc.indices.bin\n",
    "R_train_csc.data.bin\n",
    "\"\"\")\n",
    "outfile_meta.write(str(nnz_test) + \" \" + \"test.txt\\n\")"
   ]
  },
  {
   "cell_type": "code",
   "execution_count": 15,
   "metadata": {},
   "outputs": [
    {
     "name": "stdout",
     "output_type": "stream",
     "text": [
      "writing extra meta file\n",
      "CPU times: user 2.35 ms, sys: 41 µs, total: 2.39 ms\n",
      "Wall time: 558 µs\n"
     ]
    }
   ],
   "source": [
    "%%time\n",
    "\n",
    "print(\"writing extra meta file\")\n",
    "\n",
    "outfile_meta = open(\"meta\", 'w')\n",
    "outfile_meta.write(str(m) + \" \" + str(n) + \"\\n\")\n",
    "outfile_meta.write(str(nnz_train) + \" \" + \"train.txt\\n\")\n",
    "outfile_meta.write(str(nnz_test) + \" \" + \"test.txt\\n\")"
   ]
  }
 ],
 "metadata": {
  "kernelspec": {
   "display_name": "Python 3",
   "language": "python",
   "name": "python3"
  },
  "language_info": {
   "codemirror_mode": {
    "name": "ipython",
    "version": 3
   },
   "file_extension": ".py",
   "mimetype": "text/x-python",
   "name": "python",
   "nbconvert_exporter": "python",
   "pygments_lexer": "ipython3",
   "version": "3.7.1"
  }
 },
 "nbformat": 4,
 "nbformat_minor": 2
}
