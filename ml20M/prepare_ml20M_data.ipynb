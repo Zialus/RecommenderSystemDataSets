{
 "cells": [
  {
   "cell_type": "code",
   "execution_count": 1,
   "metadata": {},
   "outputs": [
    {
     "name": "stdout",
     "output_type": "stream",
     "text": [
      "CPU times: user 518 ms, sys: 69.5 ms, total: 587 ms\n",
      "Wall time: 630 ms\n"
     ]
    }
   ],
   "source": [
    "%%time\n",
    "\n",
    "import os\n",
    "import sys\n",
    "from urllib.request import urlretrieve\n",
    "import numpy as np\n",
    "import pandas as pd\n",
    "from scipy import sparse\n",
    "from sklearn.model_selection import train_test_split\n",
    "import zipfile as zf"
   ]
  },
  {
   "cell_type": "code",
   "execution_count": 2,
   "metadata": {},
   "outputs": [
    {
     "name": "stderr",
     "output_type": "stream",
     "text": [
      "100.0% 198696960 / 198702078"
     ]
    },
    {
     "name": "stdout",
     "output_type": "stream",
     "text": [
      "Found and verified ml-20m.zip\n",
      "CPU times: user 3.55 s, sys: 1.39 s, total: 4.94 s\n",
      "Wall time: 11.7 s\n"
     ]
    },
    {
     "name": "stderr",
     "output_type": "stream",
     "text": [
      "\r",
      "100.0% 198705152 / 198702078\n"
     ]
    }
   ],
   "source": [
    "%%time\n",
    "\n",
    "# Download the data.\n",
    "url = 'http://files.grouplens.org/datasets/movielens/'\n",
    "\n",
    "\n",
    "def reporthook(blocknum, blocksize, totalsize):\n",
    "    readsofar = blocknum * blocksize\n",
    "    if totalsize > 0:\n",
    "        percent = readsofar * 1e2 / totalsize\n",
    "        s = \"\\r%5.1f%% %*d / %d\" % (\n",
    "            percent, len(str(totalsize)), readsofar, totalsize)\n",
    "        sys.stderr.write(s)\n",
    "        if readsofar >= totalsize: # near the end\n",
    "            sys.stderr.write(\"\\n\")\n",
    "    else: # total size is unknown\n",
    "        sys.stderr.write(\"read %d\\n\" % (readsofar,))\n",
    "\n",
    "def maybe_download(filename, expected_bytes):\n",
    "    \"\"\"Download a file if not present, and make sure it's the right size.\"\"\"\n",
    "    if not os.path.exists(filename):\n",
    "        filename, _ = urlretrieve(url + filename, filename,reporthook)\n",
    "    statinfo = os.stat(filename)\n",
    "    if statinfo.st_size == expected_bytes:\n",
    "        print('Found and verified', filename)\n",
    "    else:\n",
    "        print(statinfo.st_size)\n",
    "        raise Exception('Failed to verify ' + filename + '. Can you get to it with a browser?')\n",
    "    return filename\n",
    "\n",
    "\n",
    "data_file = maybe_download('ml-20m.zip', 198702078)"
   ]
  },
  {
   "cell_type": "code",
   "execution_count": 3,
   "metadata": {},
   "outputs": [
    {
     "name": "stdout",
     "output_type": "stream",
     "text": [
      "CPU times: user 4.12 s, sys: 706 ms, total: 4.83 s\n",
      "Wall time: 4.83 s\n"
     ]
    }
   ],
   "source": [
    "%%time\n",
    "\n",
    "with zf.ZipFile(\"ml-20m.zip\", \"r\") as zip_ref:\n",
    "    zip_ref.extractall()"
   ]
  },
  {
   "cell_type": "code",
   "execution_count": 4,
   "metadata": {},
   "outputs": [
    {
     "name": "stdout",
     "output_type": "stream",
     "text": [
      "CPU times: user 6.38 s, sys: 748 ms, total: 7.13 s\n",
      "Wall time: 5.47 s\n"
     ]
    }
   ],
   "source": [
    "%%time\n",
    "\n",
    "# file should look like\n",
    "'''\n",
    "userId,movieId,rating,timestamp\n",
    "1,2,3.5,1112486027\n",
    "1,29,3.5,1112484676\n",
    "1,32,3.5,1112484819\n",
    "1,47,3.5,1112484727\n",
    "1,50,3.5,1112484580\n",
    "1,112,3.5,1094785740\n",
    "1,151,4.0,1094785734\n",
    "1,223,4.0,1112485573\n",
    "1,253,4.0,1112484940\n",
    "'''\n",
    "m = 138_493\n",
    "n = 131_262\n",
    "nnz_train = 18_000_236\n",
    "nnz_test = 2_000_027\n",
    "\n",
    "data_filename = 'ml-20m/ratings.csv'\n",
    "\n",
    "data = pd.read_csv(data_filename, dtype={0: 'int32', 1: 'int32', 2: 'float32'}, usecols=[0, 1, 2])\n",
    "\n",
    "user = data['userId'].values\n",
    "item = data['movieId'].values\n",
    "rating = data['rating'].values"
   ]
  },
  {
   "cell_type": "code",
   "execution_count": 5,
   "metadata": {},
   "outputs": [
    {
     "name": "stdout",
     "output_type": "stream",
     "text": [
      "[     1      1      1 ... 138493 138493 138493]\n",
      "[    2    29    32 ... 69644 70286 71619]\n",
      "[3.5 3.5 3.5 ... 3.  5.  2.5]\n",
      "\n",
      "1\n",
      "1\n",
      "0.5\n",
      "\n",
      "138493\n",
      "131262\n",
      "5.0\n",
      "\n",
      "138493\n",
      "26744\n",
      "10\n",
      "\n",
      "20000263\n",
      "CPU times: user 9.46 s, sys: 321 ms, total: 9.78 s\n",
      "Wall time: 2.19 s\n"
     ]
    }
   ],
   "source": [
    "%%time\n",
    "\n",
    "print(user)\n",
    "print(item)\n",
    "print(rating)\n",
    "print(\"\")\n",
    "print(np.min(user))\n",
    "print(np.min(item))\n",
    "print(np.min(rating))\n",
    "print(\"\")\n",
    "print(np.max(user))\n",
    "print(np.max(item))\n",
    "print(np.max(rating))\n",
    "print(\"\")\n",
    "print(np.unique(user).size)\n",
    "print(np.unique(item).size)\n",
    "print(np.unique(rating).size)\n",
    "print(\"\")\n",
    "print(user.size)\n",
    "\n",
    "assert np.max(user) == m\n",
    "assert np.max(item) == n\n",
    "assert user.size == nnz_train + nnz_test"
   ]
  },
  {
   "cell_type": "code",
   "execution_count": 6,
   "metadata": {},
   "outputs": [
    {
     "name": "stdout",
     "output_type": "stream",
     "text": [
      "CPU times: user 5.56 s, sys: 578 ms, total: 6.14 s\n",
      "Wall time: 2.86 s\n"
     ]
    }
   ],
   "source": [
    "%%time\n",
    "\n",
    "user_item = np.vstack((user, item))\n",
    "\n",
    "user_item_train, user_item_test, rating_train, rating_test = train_test_split(user_item.T,\n",
    "                                                                              rating,\n",
    "                                                                              test_size=nnz_test,\n",
    "                                                                              random_state=42)"
   ]
  },
  {
   "cell_type": "code",
   "execution_count": 7,
   "metadata": {},
   "outputs": [
    {
     "name": "stdout",
     "output_type": "stream",
     "text": [
      "CPU times: user 4.95 s, sys: 77.5 ms, total: 5.02 s\n",
      "Wall time: 4.96 s\n"
     ]
    }
   ],
   "source": [
    "%%time\n",
    "\n",
    "#1-based to 0-based\n",
    "R_test_coo = sparse.coo_matrix((rating_test, (user_item_test[:, 0] - 1, user_item_test[:, 1] - 1)))\n",
    "assert R_test_coo.nnz == nnz_test\n",
    "\n",
    "outfile_test = open(\"test.txt\", 'w')\n",
    "for i in range(nnz_test):\n",
    "    outfile_test.write(str(user_item_test[i, 0]) + \" \" + str(user_item_test[i, 1]) + \" \" + str(rating_test[i]) + \"\\n\")"
   ]
  },
  {
   "cell_type": "code",
   "execution_count": 8,
   "metadata": {},
   "outputs": [
    {
     "name": "stdout",
     "output_type": "stream",
     "text": [
      "CPU times: user 635 ms, sys: 41 ms, total: 676 ms\n",
      "Wall time: 45.9 ms\n"
     ]
    }
   ],
   "source": [
    "%%time\n",
    "\n",
    "# for test data, we need COO format to calculate test RMSE\n",
    "\n",
    "R_test_coo.data.astype(np.float32).tofile('R_test_coo.data.bin')\n",
    "R_test_coo.row.tofile('R_test_coo.row.bin')\n",
    "R_test_coo.col.tofile('R_test_coo.col.bin')\n",
    "\n",
    "test_data = np.fromfile('R_test_coo.data.bin', dtype=np.float32)\n",
    "test_row = np.fromfile('R_test_coo.row.bin', dtype=np.int32)\n",
    "test_col = np.fromfile('R_test_coo.col.bin', dtype=np.int32)"
   ]
  },
  {
   "cell_type": "code",
   "execution_count": 9,
   "metadata": {},
   "outputs": [
    {
     "name": "stdout",
     "output_type": "stream",
     "text": [
      "[3.5 2.  3.5 ... 2.5 3.5 5. ]\n",
      "[122269  49017  89526 ...  29334 124294  73173]\n",
      "[  8359     31 109373 ...   3615  53124     47]\n",
      "\n",
      "[3.5 2.  3.5 ... 2.5 3.5 5. ]\n",
      "[122269  49017  89526 ...  29334 124294  73173]\n",
      "[  8359     31 109373 ...   3615  53124     47]\n"
     ]
    }
   ],
   "source": [
    "print(R_test_coo.data)\n",
    "print(R_test_coo.row)\n",
    "print(R_test_coo.col)\n",
    "print(\"\")\n",
    "print(test_data)\n",
    "print(test_row)\n",
    "print(test_col)"
   ]
  },
  {
   "cell_type": "code",
   "execution_count": 10,
   "metadata": {},
   "outputs": [
    {
     "name": "stdout",
     "output_type": "stream",
     "text": [
      "5.0\n",
      "138492\n",
      "131257\n",
      "\n",
      "0.5\n",
      "0\n",
      "0\n",
      "\n",
      "138493\n",
      "135697\n",
      "26744\n",
      "17719\n",
      "CPU times: user 9.05 s, sys: 271 ms, total: 9.32 s\n",
      "Wall time: 1.55 s\n"
     ]
    }
   ],
   "source": [
    "%%time\n",
    "\n",
    "print(np.max(R_test_coo.data))\n",
    "print(np.max(R_test_coo.row))\n",
    "print(np.max(R_test_coo.col))\n",
    "print(\"\")\n",
    "print(np.min(R_test_coo.data))\n",
    "print(np.min(R_test_coo.row))\n",
    "print(np.min(R_test_coo.col))\n",
    "print(\"\")\n",
    "print(np.unique(user).size)\n",
    "print(np.unique(R_test_coo.row).size)\n",
    "print(np.unique(item).size)\n",
    "print(np.unique(R_test_coo.col).size)"
   ]
  },
  {
   "cell_type": "code",
   "execution_count": 11,
   "metadata": {},
   "outputs": [
    {
     "name": "stdout",
     "output_type": "stream",
     "text": [
      "CPU times: user 46.7 s, sys: 773 ms, total: 47.5 s\n",
      "Wall time: 45.7 s\n"
     ]
    }
   ],
   "source": [
    "%%time\n",
    "\n",
    "#1-based to 0-based\n",
    "R_train_coo = sparse.coo_matrix((rating_train, (user_item_train[:, 0] - 1, user_item_train[:, 1] - 1)))\n",
    "assert R_train_coo.nnz == nnz_train\n",
    "\n",
    "outfile_train = open(\"train.txt\", 'w')\n",
    "for i in range(nnz_train):\n",
    "    outfile_train.write(str(user_item_train[i, 0]) + \" \" + str(user_item_train[i, 1]) + \" \" + str(rating_train[i]) + \"\\n\")"
   ]
  },
  {
   "cell_type": "code",
   "execution_count": 12,
   "metadata": {
    "scrolled": true
   },
   "outputs": [
    {
     "name": "stdout",
     "output_type": "stream",
     "text": [
      "CPU times: user 11.2 s, sys: 1.04 s, total: 12.2 s\n",
      "Wall time: 4.28 s\n"
     ]
    }
   ],
   "source": [
    "%%time\n",
    "\n",
    "# for training data, we need COO format to calculate training RMSE\n",
    "# we need CSR format R when calculate X from \\Theta\n",
    "# we need CSC format of R when calculating \\Theta from X\n",
    "R_train_coo.data.astype(np.float32).tofile('R_train_coo.data.bin')\n",
    "R_train_coo.row.tofile('R_train_coo.row.bin')\n",
    "R_train_coo.col.tofile('R_train_coo.col.bin')\n",
    "\n",
    "R_train_csr = R_train_coo.tocsr()\n",
    "R_train_csc = R_train_coo.tocsc()\n",
    "\n",
    "R_train_csr.data.astype(np.float32).tofile('R_train_csr.data.bin')\n",
    "R_train_csr.indices.tofile('R_train_csr.indices.bin')\n",
    "R_train_csr.indptr.tofile('R_train_csr.indptr.bin')\n",
    "R_train_csc.data.astype(np.float32).tofile('R_train_csc.data.bin')\n",
    "R_train_csc.indices.tofile('R_train_csc.indices.bin')\n",
    "R_train_csc.indptr.tofile('R_train_csc.indptr.bin')"
   ]
  },
  {
   "cell_type": "code",
   "execution_count": 13,
   "metadata": {},
   "outputs": [
    {
     "name": "stdout",
     "output_type": "stream",
     "text": [
      "CPU times: user 675 ms, sys: 318 ms, total: 993 ms\n",
      "Wall time: 314 ms\n"
     ]
    }
   ],
   "source": [
    "%%time\n",
    "\n",
    "train_data = np.fromfile('R_train_coo.data.bin', dtype=np.float32)\n",
    "train_row = np.fromfile('R_train_coo.row.bin', dtype=np.int32)\n",
    "train_col = np.fromfile('R_train_coo.col.bin', dtype=np.int32)\n",
    "\n",
    "train_csc_data = np.fromfile('R_train_csc.data.bin', dtype=np.float32)\n",
    "train_csc_indices = np.fromfile('R_train_csc.indices.bin', dtype=np.int32)\n",
    "train_csc_indptr = np.fromfile('R_train_csc.indptr.bin', dtype=np.int32)\n",
    "\n",
    "train_csr_data = np.fromfile('R_train_csr.data.bin', dtype=np.float32)\n",
    "train_csr_indices = np.fromfile('R_train_csr.indices.bin', dtype=np.int32)\n",
    "train_csr_indptr = np.fromfile('R_train_csr.indptr.bin', dtype=np.int32)"
   ]
  },
  {
   "cell_type": "code",
   "execution_count": 14,
   "metadata": {},
   "outputs": [
    {
     "name": "stdout",
     "output_type": "stream",
     "text": [
      "[2.  3.5 1.5 ... 3.5 5.  3.5]\n",
      "[123513  33254 101943 ...  15190  92010 111372]\n",
      "[3985 6723 5503 ... 2716 1275 2639]\n",
      "\n",
      "[2.  3.5 1.5 ... 3.5 5.  3.5]\n",
      "[123513  33254 101943 ...  15190  92010 111372]\n",
      "[3985 6723 5503 ... 2716 1275 2639]\n",
      "\n",
      "[3.5 3.5 3.5 ... 3.  5.  2.5]\n",
      "[    1    46    49 ... 69643 70285 71618]\n",
      "[       0      158      216 ... 17999818 17999891 18000236]\n",
      "\n",
      "[3.5 3.5 3.5 ... 3.  5.  2.5]\n",
      "[    1    46    49 ... 69643 70285 71618]\n",
      "[       0      158      216 ... 17999818 17999891 18000236]\n",
      "\n",
      "[4. 5. 4. ... 4. 3. 4.]\n",
      "[     2      5      7 ...  79569  65408 133046]\n",
      "[       0    44817    64870 ... 18000235 18000235 18000236]\n",
      "\n",
      "[4. 5. 4. ... 4. 3. 4.]\n",
      "[     2      5      7 ...  79569  65408 133046]\n",
      "[       0    44817    64870 ... 18000235 18000235 18000236]\n"
     ]
    }
   ],
   "source": [
    "print(R_train_coo.data)\n",
    "print(R_train_coo.row)\n",
    "print(R_train_coo.col)\n",
    "print(\"\")\n",
    "print(train_data)\n",
    "print(train_row)\n",
    "print(train_col)\n",
    "print(\"\")\n",
    "print(R_train_csr.data)\n",
    "print(R_train_csr.indices)\n",
    "print(R_train_csr.indptr)\n",
    "print(\"\")\n",
    "print(train_csr_data)\n",
    "print(train_csr_indices)\n",
    "print(train_csr_indptr)\n",
    "print(\"\")\n",
    "print(R_train_csc.data)\n",
    "print(R_train_csc.indices)\n",
    "print(R_train_csc.indptr)\n",
    "print(\"\")\n",
    "print(train_csc_data)\n",
    "print(train_csc_indices)\n",
    "print(train_csc_indptr)"
   ]
  },
  {
   "cell_type": "code",
   "execution_count": 15,
   "metadata": {},
   "outputs": [
    {
     "name": "stdout",
     "output_type": "stream",
     "text": [
      "5.0\n",
      "138492\n",
      "131261\n",
      "\n",
      "0.5\n",
      "0\n",
      "0\n",
      "\n",
      "138493\n",
      "138493\n",
      "26744\n",
      "26325\n",
      "CPU times: user 12.4 s, sys: 386 ms, total: 12.7 s\n",
      "Wall time: 3.49 s\n"
     ]
    }
   ],
   "source": [
    "%%time\n",
    "\n",
    "print(np.max(R_train_coo.data))\n",
    "print(np.max(R_train_coo.row))\n",
    "print(np.max(R_train_coo.col))\n",
    "print(\"\")\n",
    "print(np.min(R_train_coo.data))\n",
    "print(np.min(R_train_coo.row))\n",
    "print(np.min(R_train_coo.col))\n",
    "print(\"\")\n",
    "print(np.unique(user).size)\n",
    "print(np.unique(R_train_coo.row).size)\n",
    "print(np.unique(item).size)\n",
    "print(np.unique(R_train_coo.col).size)"
   ]
  },
  {
   "cell_type": "code",
   "execution_count": 16,
   "metadata": {},
   "outputs": [
    {
     "name": "stdout",
     "output_type": "stream",
     "text": [
      "writing extra meta_modified_all file\n",
      "CPU times: user 1.17 ms, sys: 67 µs, total: 1.24 ms\n",
      "Wall time: 744 µs\n"
     ]
    }
   ],
   "source": [
    "%%time\n",
    "\n",
    "print(\"writing extra meta_modified_all file\")\n",
    "\n",
    "outfile_meta = open(\"meta_modified_all\", 'w')\n",
    "outfile_meta.write(str(m) + \" \" + str(n) + \"\\n\" + str(nnz_train) + \"\\n\")\n",
    "outfile_meta.write(\"\"\"R_train_coo.data.bin\n",
    "R_train_coo.row.bin\n",
    "R_train_coo.col.bin\n",
    "R_train_csr.indptr.bin\n",
    "R_train_csr.indices.bin\n",
    "R_train_csr.data.bin\n",
    "R_train_csc.indptr.bin\n",
    "R_train_csc.indices.bin\n",
    "R_train_csc.data.bin\n",
    "\"\"\")\n",
    "outfile_meta.write(str(nnz_test) + \" \" + \"test.txt\\n\")"
   ]
  },
  {
   "cell_type": "code",
   "execution_count": 17,
   "metadata": {},
   "outputs": [
    {
     "name": "stdout",
     "output_type": "stream",
     "text": [
      "writing extra meta file\n",
      "CPU times: user 829 µs, sys: 0 ns, total: 829 µs\n",
      "Wall time: 603 µs\n"
     ]
    }
   ],
   "source": [
    "%%time\n",
    "\n",
    "print(\"writing extra meta file\")\n",
    "\n",
    "outfile_meta = open(\"meta\", 'w')\n",
    "outfile_meta.write(str(m) + \" \" + str(n) + \"\\n\")\n",
    "outfile_meta.write(str(nnz_train) + \" \" + \"train.txt\\n\")\n",
    "outfile_meta.write(str(nnz_test) + \" \" + \"test.txt\\n\")"
   ]
  }
 ],
 "metadata": {
  "kernelspec": {
   "display_name": "Python 3",
   "language": "python",
   "name": "python3"
  },
  "language_info": {
   "codemirror_mode": {
    "name": "ipython",
    "version": 3
   },
   "file_extension": ".py",
   "mimetype": "text/x-python",
   "name": "python",
   "nbconvert_exporter": "python",
   "pygments_lexer": "ipython3",
   "version": "3.7.1"
  }
 },
 "nbformat": 4,
 "nbformat_minor": 2
}
