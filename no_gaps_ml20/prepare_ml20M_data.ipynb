{
 "cells": [
  {
   "cell_type": "code",
   "execution_count": 1,
   "metadata": {},
   "outputs": [
    {
     "name": "stdout",
     "output_type": "stream",
     "text": [
      "CPU times: user 500 ms, sys: 71.5 ms, total: 572 ms\n",
      "Wall time: 570 ms\n"
     ]
    }
   ],
   "source": [
    "%%time\n",
    "\n",
    "import os\n",
    "import sys\n",
    "from urllib.request import urlretrieve\n",
    "import numpy as np\n",
    "import pandas as pd\n",
    "from scipy import sparse\n",
    "from sklearn.model_selection import train_test_split\n",
    "import zipfile as zf"
   ]
  },
  {
   "cell_type": "code",
   "execution_count": 2,
   "metadata": {},
   "outputs": [
    {
     "name": "stderr",
     "output_type": "stream",
     "text": [
      " 99.3% 197279744 / 198702078"
     ]
    },
    {
     "name": "stdout",
     "output_type": "stream",
     "text": [
      "Found and verified ml-20m.zip\n",
      "CPU times: user 2.93 s, sys: 1.31 s, total: 4.24 s\n",
      "Wall time: 11.9 s\n"
     ]
    },
    {
     "name": "stderr",
     "output_type": "stream",
     "text": [
      "\r",
      " 99.3% 197287936 / 198702078\r",
      " 99.3% 197296128 / 198702078\r",
      " 99.3% 197304320 / 198702078\r",
      " 99.3% 197312512 / 198702078\r",
      " 99.3% 197320704 / 198702078\r",
      " 99.3% 197328896 / 198702078\r",
      " 99.3% 197337088 / 198702078\r",
      " 99.3% 197345280 / 198702078\r",
      " 99.3% 197353472 / 198702078\r",
      " 99.3% 197361664 / 198702078\r",
      " 99.3% 197369856 / 198702078\r",
      " 99.3% 197378048 / 198702078\r",
      " 99.3% 197386240 / 198702078\r",
      " 99.3% 197394432 / 198702078\r",
      " 99.3% 197402624 / 198702078\r",
      " 99.4% 197410816 / 198702078\r",
      " 99.4% 197419008 / 198702078\r",
      " 99.4% 197427200 / 198702078\r",
      " 99.4% 197435392 / 198702078\r",
      " 99.4% 197443584 / 198702078\r",
      " 99.4% 197451776 / 198702078\r",
      " 99.4% 197459968 / 198702078\r",
      " 99.4% 197468160 / 198702078\r",
      " 99.4% 197476352 / 198702078\r",
      " 99.4% 197484544 / 198702078\r",
      " 99.4% 197492736 / 198702078\r",
      " 99.4% 197500928 / 198702078\r",
      " 99.4% 197509120 / 198702078\r",
      " 99.4% 197517312 / 198702078\r",
      " 99.4% 197525504 / 198702078\r",
      " 99.4% 197533696 / 198702078\r",
      " 99.4% 197541888 / 198702078\r",
      " 99.4% 197550080 / 198702078\r",
      " 99.4% 197558272 / 198702078\r",
      " 99.4% 197566464 / 198702078\r",
      " 99.4% 197574656 / 198702078\r",
      " 99.4% 197582848 / 198702078\r",
      " 99.4% 197591040 / 198702078\r",
      " 99.4% 197599232 / 198702078\r",
      " 99.4% 197607424 / 198702078\r",
      " 99.5% 197615616 / 198702078\r",
      " 99.5% 197623808 / 198702078\r",
      " 99.5% 197632000 / 198702078\r",
      " 99.5% 197640192 / 198702078\r",
      " 99.5% 197648384 / 198702078\r",
      " 99.5% 197656576 / 198702078\r",
      " 99.5% 197664768 / 198702078\r",
      " 99.5% 197672960 / 198702078\r",
      " 99.5% 197681152 / 198702078\r",
      " 99.5% 197689344 / 198702078\r",
      " 99.5% 197697536 / 198702078\r",
      " 99.5% 197705728 / 198702078\r",
      " 99.5% 197713920 / 198702078\r",
      " 99.5% 197722112 / 198702078\r",
      " 99.5% 197730304 / 198702078\r",
      " 99.5% 197738496 / 198702078\r",
      " 99.5% 197746688 / 198702078\r",
      " 99.5% 197754880 / 198702078\r",
      " 99.5% 197763072 / 198702078\r",
      " 99.5% 197771264 / 198702078\r",
      " 99.5% 197779456 / 198702078\r",
      " 99.5% 197787648 / 198702078\r",
      " 99.5% 197795840 / 198702078\r",
      " 99.5% 197804032 / 198702078\r",
      " 99.6% 197812224 / 198702078\r",
      " 99.6% 197820416 / 198702078\r",
      " 99.6% 197828608 / 198702078\r",
      " 99.6% 197836800 / 198702078\r",
      " 99.6% 197844992 / 198702078\r",
      " 99.6% 197853184 / 198702078\r",
      " 99.6% 197861376 / 198702078\r",
      " 99.6% 197869568 / 198702078\r",
      " 99.6% 197877760 / 198702078\r",
      " 99.6% 197885952 / 198702078\r",
      " 99.6% 197894144 / 198702078\r",
      " 99.6% 197902336 / 198702078\r",
      " 99.6% 197910528 / 198702078\r",
      " 99.6% 197918720 / 198702078\r",
      " 99.6% 197926912 / 198702078\r",
      " 99.6% 197935104 / 198702078\r",
      " 99.6% 197943296 / 198702078\r",
      " 99.6% 197951488 / 198702078\r",
      " 99.6% 197959680 / 198702078\r",
      " 99.6% 197967872 / 198702078\r",
      " 99.6% 197976064 / 198702078\r",
      " 99.6% 197984256 / 198702078\r",
      " 99.6% 197992448 / 198702078\r",
      " 99.6% 198000640 / 198702078\r",
      " 99.7% 198008832 / 198702078\r",
      " 99.7% 198017024 / 198702078\r",
      " 99.7% 198025216 / 198702078\r",
      " 99.7% 198033408 / 198702078\r",
      " 99.7% 198041600 / 198702078\r",
      " 99.7% 198049792 / 198702078\r",
      " 99.7% 198057984 / 198702078\r",
      " 99.7% 198066176 / 198702078\r",
      " 99.7% 198074368 / 198702078\r",
      " 99.7% 198082560 / 198702078\r",
      " 99.7% 198090752 / 198702078\r",
      " 99.7% 198098944 / 198702078\r",
      " 99.7% 198107136 / 198702078\r",
      " 99.7% 198115328 / 198702078\r",
      " 99.7% 198123520 / 198702078\r",
      " 99.7% 198131712 / 198702078\r",
      " 99.7% 198139904 / 198702078\r",
      " 99.7% 198148096 / 198702078\r",
      " 99.7% 198156288 / 198702078\r",
      " 99.7% 198164480 / 198702078\r",
      " 99.7% 198172672 / 198702078\r",
      " 99.7% 198180864 / 198702078\r",
      " 99.7% 198189056 / 198702078\r",
      " 99.7% 198197248 / 198702078\r",
      " 99.8% 198205440 / 198702078\r",
      " 99.8% 198213632 / 198702078\r",
      " 99.8% 198221824 / 198702078\r",
      " 99.8% 198230016 / 198702078\r",
      " 99.8% 198238208 / 198702078\r",
      " 99.8% 198246400 / 198702078\r",
      " 99.8% 198254592 / 198702078\r",
      " 99.8% 198262784 / 198702078\r",
      " 99.8% 198270976 / 198702078\r",
      " 99.8% 198279168 / 198702078\r",
      " 99.8% 198287360 / 198702078\r",
      " 99.8% 198295552 / 198702078\r",
      " 99.8% 198303744 / 198702078\r",
      " 99.8% 198311936 / 198702078\r",
      " 99.8% 198320128 / 198702078\r",
      " 99.8% 198328320 / 198702078\r",
      " 99.8% 198336512 / 198702078\r",
      " 99.8% 198344704 / 198702078\r",
      " 99.8% 198352896 / 198702078\r",
      " 99.8% 198361088 / 198702078\r",
      " 99.8% 198369280 / 198702078\r",
      " 99.8% 198377472 / 198702078\r",
      " 99.8% 198385664 / 198702078\r",
      " 99.8% 198393856 / 198702078\r",
      " 99.8% 198402048 / 198702078\r",
      " 99.9% 198410240 / 198702078\r",
      " 99.9% 198418432 / 198702078\r",
      " 99.9% 198426624 / 198702078\r",
      " 99.9% 198434816 / 198702078\r",
      " 99.9% 198443008 / 198702078\r",
      " 99.9% 198451200 / 198702078\r",
      " 99.9% 198459392 / 198702078\r",
      " 99.9% 198467584 / 198702078\r",
      " 99.9% 198475776 / 198702078\r",
      " 99.9% 198483968 / 198702078\r",
      " 99.9% 198492160 / 198702078\r",
      " 99.9% 198500352 / 198702078\r",
      " 99.9% 198508544 / 198702078\r",
      " 99.9% 198516736 / 198702078\r",
      " 99.9% 198524928 / 198702078\r",
      " 99.9% 198533120 / 198702078\r",
      " 99.9% 198541312 / 198702078\r",
      " 99.9% 198549504 / 198702078\r",
      " 99.9% 198557696 / 198702078\r",
      " 99.9% 198565888 / 198702078\r",
      " 99.9% 198574080 / 198702078\r",
      " 99.9% 198582272 / 198702078\r",
      " 99.9% 198590464 / 198702078\r",
      " 99.9% 198598656 / 198702078\r",
      "100.0% 198606848 / 198702078\r",
      "100.0% 198615040 / 198702078\r",
      "100.0% 198623232 / 198702078\r",
      "100.0% 198631424 / 198702078\r",
      "100.0% 198639616 / 198702078\r",
      "100.0% 198647808 / 198702078\r",
      "100.0% 198656000 / 198702078\r",
      "100.0% 198664192 / 198702078\r",
      "100.0% 198672384 / 198702078\r",
      "100.0% 198680576 / 198702078\r",
      "100.0% 198688768 / 198702078\r",
      "100.0% 198696960 / 198702078\r",
      "100.0% 198705152 / 198702078\n"
     ]
    }
   ],
   "source": [
    "%%time\n",
    "\n",
    "# Download the data.\n",
    "url = 'http://files.grouplens.org/datasets/movielens/'\n",
    "\n",
    "\n",
    "def reporthook(blocknum, blocksize, totalsize):\n",
    "    readsofar = blocknum * blocksize\n",
    "    if totalsize > 0:\n",
    "        percent = readsofar * 1e2 / totalsize\n",
    "        s = \"\\r%5.1f%% %*d / %d\" % (\n",
    "            percent, len(str(totalsize)), readsofar, totalsize)\n",
    "        sys.stderr.write(s)\n",
    "        if readsofar >= totalsize: # near the end\n",
    "            sys.stderr.write(\"\\n\")\n",
    "    else: # total size is unknown\n",
    "        sys.stderr.write(\"read %d\\n\" % (readsofar,))\n",
    "\n",
    "def maybe_download(filename, expected_bytes):\n",
    "    \"\"\"Download a file if not present, and make sure it's the right size.\"\"\"\n",
    "    if not os.path.exists(filename):\n",
    "        filename, _ = urlretrieve(url + filename, filename,reporthook)\n",
    "    statinfo = os.stat(filename)\n",
    "    if statinfo.st_size == expected_bytes:\n",
    "        print('Found and verified', filename)\n",
    "    else:\n",
    "        print(statinfo.st_size)\n",
    "        raise Exception('Failed to verify ' + filename + '. Can you get to it with a browser?')\n",
    "    return filename\n",
    "\n",
    "\n",
    "data_file = maybe_download('ml-20m.zip', 198702078)"
   ]
  },
  {
   "cell_type": "code",
   "execution_count": 3,
   "metadata": {},
   "outputs": [
    {
     "name": "stdout",
     "output_type": "stream",
     "text": [
      "CPU times: user 4.24 s, sys: 635 ms, total: 4.87 s\n",
      "Wall time: 4.87 s\n"
     ]
    }
   ],
   "source": [
    "%%time\n",
    "\n",
    "with zf.ZipFile(\"ml-20m.zip\", \"r\") as zip_ref:\n",
    "    zip_ref.extractall()"
   ]
  },
  {
   "cell_type": "code",
   "execution_count": 4,
   "metadata": {},
   "outputs": [
    {
     "name": "stdout",
     "output_type": "stream",
     "text": [
      "CPU times: user 40.1 s, sys: 1.4 s, total: 41.5 s\n",
      "Wall time: 41.1 s\n"
     ]
    }
   ],
   "source": [
    "%%time\n",
    "\n",
    "# file should look like\n",
    "'''\n",
    "userId,movieId,rating,timestamp\n",
    "1,2,3.5,1112486027\n",
    "1,29,3.5,1112484676\n",
    "1,32,3.5,1112484819\n",
    "1,47,3.5,1112484727\n",
    "1,50,3.5,1112484580\n",
    "1,112,3.5,1094785740\n",
    "1,151,4.0,1094785734\n",
    "1,223,4.0,1112485573\n",
    "1,253,4.0,1112484940\n",
    "'''\n",
    "\n",
    "fileIN = open(\"ml-20m/ratings.csv\", \"r\")\n",
    "fileOUT = open(\"ratings.dat\", \"w\")\n",
    "\n",
    "map_items = {}\n",
    "map_users = {}\n",
    "n = 1\n",
    "m = 1\n",
    "\n",
    "f = fileIN.readlines()\n",
    "f.pop(0)  # skip the first line\n",
    "\n",
    "for line in f:\n",
    "    token = line.strip().split(',')\n",
    "    uid = token[0]\n",
    "    iid = token[1]\n",
    "    score = token[2]\n",
    "\n",
    "    if uid in map_users:\n",
    "        real_uid = map_users[uid]\n",
    "    else:\n",
    "        map_users[uid] = m\n",
    "        real_uid = m\n",
    "        m+=1\n",
    "\n",
    "    if iid in map_items:\n",
    "        real_iid = map_items[iid]\n",
    "    else:\n",
    "        map_items[iid] = n\n",
    "        real_iid = n\n",
    "        n+=1\n",
    "\n",
    "    fileOUT.write(str(real_uid)+\",\"+str(real_iid)+\",\"+str(score)+\"\\n\")\n",
    "    \n",
    "fileIN.close()\n",
    "fileOUT.close()"
   ]
  },
  {
   "cell_type": "code",
   "execution_count": 5,
   "metadata": {},
   "outputs": [
    {
     "name": "stdout",
     "output_type": "stream",
     "text": [
      "CPU times: user 5.57 s, sys: 626 ms, total: 6.2 s\n",
      "Wall time: 4.77 s\n"
     ]
    }
   ],
   "source": [
    "%%time\n",
    "\n",
    "m = 138_493\n",
    "n = 26_744\n",
    "nnz_train = 18_000_236\n",
    "nnz_test = 2_000_027\n",
    "\n",
    "data_filename = 'ratings.dat'\n",
    "\n",
    "data = pd.read_csv(data_filename,dtype={0:'int32',1:'int32',2:'float32'},usecols=[0,1,2],header=None)\n",
    "\n",
    "user = data[0].values\n",
    "item = data[1].values\n",
    "rating = data[2].values"
   ]
  },
  {
   "cell_type": "code",
   "execution_count": 6,
   "metadata": {},
   "outputs": [
    {
     "name": "stdout",
     "output_type": "stream",
     "text": [
      "[     1      1      1 ... 138493 138493 138493]\n",
      "[   1    2    3 ... 3951 1819 4011]\n",
      "[3.5 3.5 3.5 ... 3.  5.  2.5]\n",
      "\n",
      "1\n",
      "1\n",
      "0.5\n",
      "\n",
      "138493\n",
      "26744\n",
      "5.0\n",
      "\n",
      "138493\n",
      "26744\n",
      "10\n",
      "\n",
      "20000263\n",
      "CPU times: user 9.95 s, sys: 236 ms, total: 10.2 s\n",
      "Wall time: 2.36 s\n"
     ]
    }
   ],
   "source": [
    "%%time\n",
    "\n",
    "print(user)\n",
    "print(item)\n",
    "print(rating)\n",
    "print(\"\")\n",
    "print(np.min(user))\n",
    "print(np.min(item))\n",
    "print(np.min(rating))\n",
    "print(\"\")\n",
    "print(np.max(user))\n",
    "print(np.max(item))\n",
    "print(np.max(rating))\n",
    "print(\"\")\n",
    "print(np.unique(user).size)\n",
    "print(np.unique(item).size)\n",
    "print(np.unique(rating).size)\n",
    "print(\"\")\n",
    "print(user.size)\n",
    "\n",
    "assert np.max(user) == m\n",
    "assert np.max(item) == n\n",
    "assert user.size == nnz_train + nnz_test"
   ]
  },
  {
   "cell_type": "code",
   "execution_count": 7,
   "metadata": {},
   "outputs": [
    {
     "name": "stdout",
     "output_type": "stream",
     "text": [
      "CPU times: user 4.76 s, sys: 475 ms, total: 5.24 s\n",
      "Wall time: 2.04 s\n"
     ]
    }
   ],
   "source": [
    "%%time\n",
    "\n",
    "user_item = np.vstack((user, item))\n",
    "\n",
    "user_item_train, user_item_test, rating_train, rating_test = train_test_split(user_item.T,\n",
    "                                                                              rating,\n",
    "                                                                              test_size=nnz_test,\n",
    "                                                                              random_state=42)"
   ]
  },
  {
   "cell_type": "code",
   "execution_count": 8,
   "metadata": {},
   "outputs": [
    {
     "name": "stdout",
     "output_type": "stream",
     "text": [
      "CPU times: user 5.01 s, sys: 51.7 ms, total: 5.06 s\n",
      "Wall time: 4.98 s\n"
     ]
    }
   ],
   "source": [
    "%%time\n",
    "\n",
    "#1-based to 0-based\n",
    "R_test_coo = sparse.coo_matrix((rating_test, (user_item_test[:, 0] - 1, user_item_test[:, 1] - 1)))\n",
    "assert R_test_coo.nnz == nnz_test\n",
    "\n",
    "outfile_test = open(\"test.txt\", 'w')\n",
    "for i in range(nnz_test):\n",
    "    outfile_test.write(str(user_item_test[i, 0]) + \" \" + str(user_item_test[i, 1]) + \" \" + str(rating_test[i]) + \"\\n\")"
   ]
  },
  {
   "cell_type": "code",
   "execution_count": 9,
   "metadata": {},
   "outputs": [
    {
     "name": "stdout",
     "output_type": "stream",
     "text": [
      "CPU times: user 394 ms, sys: 26.3 ms, total: 420 ms\n",
      "Wall time: 28.7 ms\n"
     ]
    }
   ],
   "source": [
    "%%time\n",
    "\n",
    "# for test data, we need COO format to calculate test RMSE\n",
    "\n",
    "R_test_coo.data.astype(np.float32).tofile('R_test_coo.data.bin')\n",
    "R_test_coo.row.tofile('R_test_coo.row.bin')\n",
    "R_test_coo.col.tofile('R_test_coo.col.bin')\n",
    "\n",
    "test_data = np.fromfile('R_test_coo.data.bin', dtype=np.float32)\n",
    "test_row = np.fromfile('R_test_coo.row.bin', dtype=np.int32)\n",
    "test_col = np.fromfile('R_test_coo.col.bin', dtype=np.int32)"
   ]
  },
  {
   "cell_type": "code",
   "execution_count": 10,
   "metadata": {},
   "outputs": [
    {
     "name": "stdout",
     "output_type": "stream",
     "text": [
      "[3.5 2.  3.5 ... 2.5 3.5 5. ]\n",
      "[122269  49017  89526 ...  29334 124294  73173]\n",
      "[1154    2 2662 ... 1580  971  632]\n",
      "\n",
      "[3.5 2.  3.5 ... 2.5 3.5 5. ]\n",
      "[122269  49017  89526 ...  29334 124294  73173]\n",
      "[1154    2 2662 ... 1580  971  632]\n"
     ]
    }
   ],
   "source": [
    "print(R_test_coo.data)\n",
    "print(R_test_coo.row)\n",
    "print(R_test_coo.col)\n",
    "print(\"\")\n",
    "print(test_data)\n",
    "print(test_row)\n",
    "print(test_col)"
   ]
  },
  {
   "cell_type": "code",
   "execution_count": 11,
   "metadata": {},
   "outputs": [
    {
     "name": "stdout",
     "output_type": "stream",
     "text": [
      "5.0\n",
      "138492\n",
      "26736\n",
      "\n",
      "0.5\n",
      "0\n",
      "0\n",
      "\n",
      "138493\n",
      "135697\n",
      "26744\n",
      "17719\n",
      "CPU times: user 9.64 s, sys: 233 ms, total: 9.87 s\n",
      "Wall time: 1.7 s\n"
     ]
    }
   ],
   "source": [
    "%%time\n",
    "\n",
    "print(np.max(R_test_coo.data))\n",
    "print(np.max(R_test_coo.row))\n",
    "print(np.max(R_test_coo.col))\n",
    "print(\"\")\n",
    "print(np.min(R_test_coo.data))\n",
    "print(np.min(R_test_coo.row))\n",
    "print(np.min(R_test_coo.col))\n",
    "print(\"\")\n",
    "print(np.unique(user).size)\n",
    "print(np.unique(R_test_coo.row).size)\n",
    "print(np.unique(item).size)\n",
    "print(np.unique(R_test_coo.col).size)"
   ]
  },
  {
   "cell_type": "code",
   "execution_count": 12,
   "metadata": {},
   "outputs": [
    {
     "name": "stdout",
     "output_type": "stream",
     "text": [
      "CPU times: user 45.5 s, sys: 633 ms, total: 46.1 s\n",
      "Wall time: 44.6 s\n"
     ]
    }
   ],
   "source": [
    "%%time\n",
    "\n",
    "#1-based to 0-based\n",
    "R_train_coo = sparse.coo_matrix((rating_train, (user_item_train[:, 0] - 1, user_item_train[:, 1] - 1)))\n",
    "assert R_train_coo.nnz == nnz_train\n",
    "\n",
    "outfile_train = open(\"train.txt\", 'w')\n",
    "for i in range(nnz_train):\n",
    "    outfile_train.write(str(user_item_train[i, 0]) + \" \" + str(user_item_train[i, 1]) + \" \" + str(rating_train[i]) + \"\\n\")"
   ]
  },
  {
   "cell_type": "code",
   "execution_count": 13,
   "metadata": {
    "scrolled": true
   },
   "outputs": [
    {
     "name": "stdout",
     "output_type": "stream",
     "text": [
      "CPU times: user 10.3 s, sys: 922 ms, total: 11.2 s\n",
      "Wall time: 3.9 s\n"
     ]
    }
   ],
   "source": [
    "%%time\n",
    "\n",
    "# for training data, we need COO format to calculate training RMSE\n",
    "# we need CSR format R when calculate X from \\Theta\n",
    "# we need CSC format of R when calculating \\Theta from X\n",
    "R_train_coo.data.astype(np.float32).tofile('R_train_coo.data.bin')\n",
    "R_train_coo.row.tofile('R_train_coo.row.bin')\n",
    "R_train_coo.col.tofile('R_train_coo.col.bin')\n",
    "\n",
    "R_train_csr = R_train_coo.tocsr()\n",
    "R_train_csc = R_train_coo.tocsc()\n",
    "\n",
    "R_train_csr.data.astype(np.float32).tofile('R_train_csr.data.bin')\n",
    "R_train_csr.indices.tofile('R_train_csr.indices.bin')\n",
    "R_train_csr.indptr.tofile('R_train_csr.indptr.bin')\n",
    "R_train_csc.data.astype(np.float32).tofile('R_train_csc.data.bin')\n",
    "R_train_csc.indices.tofile('R_train_csc.indices.bin')\n",
    "R_train_csc.indptr.tofile('R_train_csc.indptr.bin')"
   ]
  },
  {
   "cell_type": "code",
   "execution_count": 14,
   "metadata": {},
   "outputs": [
    {
     "name": "stdout",
     "output_type": "stream",
     "text": [
      "CPU times: user 929 ms, sys: 324 ms, total: 1.25 s\n",
      "Wall time: 369 ms\n"
     ]
    }
   ],
   "source": [
    "%%time\n",
    "\n",
    "train_data = np.fromfile('R_train_coo.data.bin', dtype=np.float32)\n",
    "train_row = np.fromfile('R_train_coo.row.bin', dtype=np.int32)\n",
    "train_col = np.fromfile('R_train_coo.col.bin', dtype=np.int32)\n",
    "\n",
    "train_csc_data = np.fromfile('R_train_csc.data.bin', dtype=np.float32)\n",
    "train_csc_indices = np.fromfile('R_train_csc.indices.bin', dtype=np.int32)\n",
    "train_csc_indptr = np.fromfile('R_train_csc.indptr.bin', dtype=np.int32)\n",
    "\n",
    "train_csr_data = np.fromfile('R_train_csr.data.bin', dtype=np.float32)\n",
    "train_csr_indices = np.fromfile('R_train_csr.indices.bin', dtype=np.int32)\n",
    "train_csr_indptr = np.fromfile('R_train_csr.indptr.bin', dtype=np.int32)"
   ]
  },
  {
   "cell_type": "code",
   "execution_count": 15,
   "metadata": {},
   "outputs": [
    {
     "name": "stdout",
     "output_type": "stream",
     "text": [
      "[2.  3.5 1.5 ... 3.5 5.  3.5]\n",
      "[123513  33254 101943 ...  15190  92010 111372]\n",
      "[1600 7339 1747 ...  744  274  335]\n",
      "\n",
      "[2.  3.5 1.5 ... 3.5 5.  3.5]\n",
      "[123513  33254 101943 ...  15190  92010 111372]\n",
      "[1600 7339 1747 ...  744  274  335]\n",
      "\n",
      "[3.5 3.5 3.5 ... 4.5 5.  4.5]\n",
      "[    0     3     4 ... 11011 11504 11614]\n",
      "[       0      158      216 ... 17999818 17999891 18000236]\n",
      "\n",
      "[3.5 3.5 3.5 ... 4.5 5.  4.5]\n",
      "[    0     3     4 ... 11011 11504 11614]\n",
      "[       0      158      216 ... 17999818 17999891 18000236]\n",
      "\n",
      "[3.5 3.  3.  ... 4.5 4.5 4.5]\n",
      "[     0      4     12 ... 138300 138405 138405]\n",
      "[       0    20053    27714 ... 18000234 18000235 18000236]\n",
      "\n",
      "[3.5 3.  3.  ... 4.5 4.5 4.5]\n",
      "[     0      4     12 ... 138300 138405 138405]\n",
      "[       0    20053    27714 ... 18000234 18000235 18000236]\n"
     ]
    }
   ],
   "source": [
    "print(R_train_coo.data)\n",
    "print(R_train_coo.row)\n",
    "print(R_train_coo.col)\n",
    "print(\"\")\n",
    "print(train_data)\n",
    "print(train_row)\n",
    "print(train_col)\n",
    "print(\"\")\n",
    "print(R_train_csr.data)\n",
    "print(R_train_csr.indices)\n",
    "print(R_train_csr.indptr)\n",
    "print(\"\")\n",
    "print(train_csr_data)\n",
    "print(train_csr_indices)\n",
    "print(train_csr_indptr)\n",
    "print(\"\")\n",
    "print(R_train_csc.data)\n",
    "print(R_train_csc.indices)\n",
    "print(R_train_csc.indptr)\n",
    "print(\"\")\n",
    "print(train_csc_data)\n",
    "print(train_csc_indices)\n",
    "print(train_csc_indptr)"
   ]
  },
  {
   "cell_type": "code",
   "execution_count": 16,
   "metadata": {},
   "outputs": [
    {
     "name": "stdout",
     "output_type": "stream",
     "text": [
      "5.0\n",
      "138492\n",
      "26743\n",
      "\n",
      "0.5\n",
      "0\n",
      "0\n",
      "\n",
      "138493\n",
      "138493\n",
      "26744\n",
      "26325\n",
      "CPU times: user 12.6 s, sys: 340 ms, total: 13 s\n",
      "Wall time: 3.67 s\n"
     ]
    }
   ],
   "source": [
    "%%time\n",
    "\n",
    "print(np.max(R_train_coo.data))\n",
    "print(np.max(R_train_coo.row))\n",
    "print(np.max(R_train_coo.col))\n",
    "print(\"\")\n",
    "print(np.min(R_train_coo.data))\n",
    "print(np.min(R_train_coo.row))\n",
    "print(np.min(R_train_coo.col))\n",
    "print(\"\")\n",
    "print(np.unique(user).size)\n",
    "print(np.unique(R_train_coo.row).size)\n",
    "print(np.unique(item).size)\n",
    "print(np.unique(R_train_coo.col).size)"
   ]
  },
  {
   "cell_type": "code",
   "execution_count": 17,
   "metadata": {},
   "outputs": [
    {
     "name": "stdout",
     "output_type": "stream",
     "text": [
      "writing extra meta_modified_all file\n",
      "CPU times: user 295 µs, sys: 14 µs, total: 309 µs\n",
      "Wall time: 191 µs\n"
     ]
    }
   ],
   "source": [
    "%%time\n",
    "\n",
    "print(\"writing extra meta_modified_all file\")\n",
    "\n",
    "outfile_meta = open(\"meta_modified_all\", 'w')\n",
    "outfile_meta.write(str(m) + \" \" + str(n) + \"\\n\" + str(nnz_train) + \"\\n\")\n",
    "outfile_meta.write(\"\"\"R_train_coo.data.bin\n",
    "R_train_coo.row.bin\n",
    "R_train_coo.col.bin\n",
    "R_train_csr.indptr.bin\n",
    "R_train_csr.indices.bin\n",
    "R_train_csr.data.bin\n",
    "R_train_csc.indptr.bin\n",
    "R_train_csc.indices.bin\n",
    "R_train_csc.data.bin\n",
    "\"\"\")\n",
    "outfile_meta.write(str(nnz_test) + \" \" + \"test.txt\\n\")"
   ]
  },
  {
   "cell_type": "code",
   "execution_count": 18,
   "metadata": {},
   "outputs": [
    {
     "name": "stdout",
     "output_type": "stream",
     "text": [
      "writing extra meta file\n",
      "CPU times: user 792 µs, sys: 38 µs, total: 830 µs\n",
      "Wall time: 669 µs\n"
     ]
    }
   ],
   "source": [
    "%%time\n",
    "\n",
    "print(\"writing extra meta file\")\n",
    "\n",
    "outfile_meta = open(\"meta\", 'w')\n",
    "outfile_meta.write(str(m) + \" \" + str(n) + \"\\n\")\n",
    "outfile_meta.write(str(nnz_train) + \" \" + \"train.txt\\n\")\n",
    "outfile_meta.write(str(nnz_test) + \" \" + \"test.txt\\n\")"
   ]
  }
 ],
 "metadata": {
  "kernelspec": {
   "display_name": "Python 3",
   "language": "python",
   "name": "python3"
  },
  "language_info": {
   "codemirror_mode": {
    "name": "ipython",
    "version": 3
   },
   "file_extension": ".py",
   "mimetype": "text/x-python",
   "name": "python",
   "nbconvert_exporter": "python",
   "pygments_lexer": "ipython3",
   "version": "3.7.1"
  }
 },
 "nbformat": 4,
 "nbformat_minor": 2
}
