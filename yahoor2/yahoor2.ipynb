{
 "cells": [
  {
   "cell_type": "code",
   "execution_count": 1,
   "metadata": {},
   "outputs": [
    {
     "name": "stdout",
     "output_type": "stream",
     "text": [
      "CPU times: user 1.24 s, sys: 1.01 s, total: 2.25 s\n",
      "Wall time: 1.16 s\n"
     ]
    }
   ],
   "source": [
    "%%time\n",
    "\n",
    "import numpy as np\n",
    "from scipy import sparse\n",
    "import pandas as pd\n",
    "from sklearn.model_selection import train_test_split\n",
    "import tarfile as tar\n",
    "import gzip as gz\n",
    "import shutil\n",
    "import glob\n",
    "import os"
   ]
  },
  {
   "cell_type": "code",
   "execution_count": 2,
   "metadata": {},
   "outputs": [
    {
     "name": "stdout",
     "output_type": "stream",
     "text": [
      "CPU times: user 1min 50s, sys: 15.8 s, total: 2min 6s\n",
      "Wall time: 3min 5s\n"
     ]
    }
   ],
   "source": [
    "%%time\n",
    "\n",
    "with tar.open(\"Webscope_R2-1.tgz\", \"r\") as tar_ref:\n",
    "    tar_ref.extractall()\n",
    "with tar.open(\"Webscope_R2-2.tgz\", \"r\") as tar_ref:\n",
    "    tar_ref.extractall()"
   ]
  },
  {
   "cell_type": "code",
   "execution_count": 3,
   "metadata": {},
   "outputs": [
    {
     "name": "stdout",
     "output_type": "stream",
     "text": [
      "CPU times: user 4.35 s, sys: 25.1 s, total: 29.5 s\n",
      "Wall time: 1min 32s\n"
     ]
    }
   ],
   "source": [
    "%%time\n",
    "\n",
    "with open('train_tmp.txt','wb') as wfd:\n",
    "    for f in glob.glob(\"ydata-ymusic-user-song-ratings-meta-v1_0/train*.txt\"):\n",
    "        with open(f,'rb') as fd:\n",
    "            shutil.copyfileobj(fd, wfd)"
   ]
  },
  {
   "cell_type": "code",
   "execution_count": 4,
   "metadata": {},
   "outputs": [
    {
     "name": "stdout",
     "output_type": "stream",
     "text": [
      "CPU times: user 145 ms, sys: 899 ms, total: 1.04 s\n",
      "Wall time: 30.5 s\n"
     ]
    }
   ],
   "source": [
    "%%time\n",
    "\n",
    "with open('test_tmp.txt','wb') as wfd:\n",
    "    for f in glob.glob(\"ydata-ymusic-user-song-ratings-meta-v1_0/test*.txt\"):\n",
    "        with open(f,'rb') as fd:\n",
    "            shutil.copyfileobj(fd, wfd)"
   ]
  },
  {
   "cell_type": "code",
   "execution_count": 5,
   "metadata": {},
   "outputs": [
    {
     "name": "stdout",
     "output_type": "stream",
     "text": [
      "CPU times: user 0 ns, sys: 2.76 s, total: 2.76 s\n",
      "Wall time: 2.76 s\n"
     ]
    }
   ],
   "source": [
    "%%time\n",
    "\n",
    "shutil.rmtree(\"ydata-ymusic-user-song-ratings-meta-v1_0/\")"
   ]
  },
  {
   "cell_type": "code",
   "execution_count": 6,
   "metadata": {},
   "outputs": [],
   "source": [
    "m = 1_823_179\n",
    "n = 136_736\n",
    "\n",
    "nnz_train = 699_640_226\n",
    "nnz_test = 18_231_790\n",
    "\n",
    "train_data_file = \"train_tmp.txt\"\n",
    "test_data_file = \"test_tmp.txt\""
   ]
  },
  {
   "cell_type": "code",
   "execution_count": 7,
   "metadata": {},
   "outputs": [
    {
     "name": "stdout",
     "output_type": "stream",
     "text": [
      "preparing training data\n",
      "CPU times: user 7.58 s, sys: 1.1 s, total: 8.68 s\n",
      "Wall time: 8.75 s\n",
      "preparing test data\n",
      "CPU times: user 4min 42s, sys: 42 s, total: 5min 24s\n",
      "Wall time: 5min 29s\n"
     ]
    }
   ],
   "source": [
    "print(\"preparing training data\")\n",
    "%time test_data = pd.read_csv(test_data_file, delimiter = \"\\t\",header=None)\n",
    "test_user = test_data[0].values\n",
    "test_item = test_data[1].values\n",
    "test_rating = test_data[2].values\n",
    "\n",
    "print(\"preparing test data\")\n",
    "%time train_data = pd.read_csv(train_data_file, delimiter = \"\\t\",header=None)\n",
    "train_user = train_data[0].values\n",
    "train_item = train_data[1].values\n",
    "train_rating = train_data[2].values"
   ]
  },
  {
   "cell_type": "code",
   "execution_count": 8,
   "metadata": {},
   "outputs": [
    {
     "name": "stdout",
     "output_type": "stream",
     "text": [
      "CPU times: user 0 ns, sys: 3.2 s, total: 3.2 s\n",
      "Wall time: 3.22 s\n"
     ]
    }
   ],
   "source": [
    "%%time\n",
    "\n",
    "os.remove(\"test_tmp.txt\")\n",
    "os.remove(\"train_tmp.txt\")"
   ]
  },
  {
   "cell_type": "code",
   "execution_count": 9,
   "metadata": {},
   "outputs": [
    {
     "name": "stdout",
     "output_type": "stream",
     "text": [
      "[      0       0       0 ... 1823178 1823178 1823178]\n",
      "[  7171   8637  21966 ...  81597 116524 118873]\n",
      "[5 4 4 ... 1 3 2]\n",
      "\n",
      "1823178\n",
      "136735\n",
      "5\n",
      "\n",
      "0\n",
      "0\n",
      "1\n",
      "\n",
      "1823179\n",
      "136735\n",
      "5\n",
      "\n",
      "18231790\n",
      "CPU times: user 3.61 s, sys: 111 ms, total: 3.72 s\n",
      "Wall time: 3.73 s\n"
     ]
    }
   ],
   "source": [
    "%%time\n",
    "\n",
    "print(test_user)\n",
    "print(test_item)\n",
    "print(test_rating)\n",
    "print(\"\")\n",
    "print(np.max(test_user))\n",
    "print(np.max(test_item))\n",
    "print(np.max(test_rating))\n",
    "print(\"\")\n",
    "print(np.min(test_user))\n",
    "print(np.min(test_item))\n",
    "print(np.min(test_rating))\n",
    "print(\"\")\n",
    "print(np.unique(test_user).size)\n",
    "print(np.unique(test_item).size)\n",
    "print(np.unique(test_rating).size)\n",
    "print(\"\")\n",
    "print(test_user.size)\n",
    "\n",
    "assert test_user.size == nnz_test"
   ]
  },
  {
   "cell_type": "code",
   "execution_count": 10,
   "metadata": {},
   "outputs": [
    {
     "name": "stdout",
     "output_type": "stream",
     "text": [
      "[      0       0       0 ... 1823178 1823178 1823178]\n",
      "[   166   2245   3637 ... 125420 128016 135359]\n",
      "[5 4 4 ... 1 5 5]\n",
      "\n",
      "1823178\n",
      "136735\n",
      "5\n",
      "\n",
      "0\n",
      "0\n",
      "1\n",
      "\n",
      "1823179\n",
      "136736\n",
      "5\n",
      "\n",
      "699640226\n",
      "CPU times: user 2min 23s, sys: 10.1 s, total: 2min 33s\n",
      "Wall time: 2min 33s\n"
     ]
    }
   ],
   "source": [
    "%%time\n",
    "\n",
    "print(train_user)\n",
    "print(train_item)\n",
    "print(train_rating)\n",
    "print(\"\")\n",
    "print(np.max(train_user))\n",
    "print(np.max(train_item))\n",
    "print(np.max(train_rating))\n",
    "print(\"\")\n",
    "print(np.min(train_user))\n",
    "print(np.min(train_item))\n",
    "print(np.min(train_rating))\n",
    "print(\"\")\n",
    "print(np.unique(train_user).size)\n",
    "print(np.unique(train_item).size)\n",
    "print(np.unique(train_rating).size)\n",
    "print(\"\")\n",
    "print(train_user.size)\n",
    "\n",
    "assert train_user.size == nnz_train\n",
    "assert np.max(train_user)+1 == m  # ids start with 0\n",
    "assert np.max(train_item)+1 == n  # ids start with 0"
   ]
  },
  {
   "cell_type": "code",
   "execution_count": 11,
   "metadata": {},
   "outputs": [
    {
     "name": "stdout",
     "output_type": "stream",
     "text": [
      "CPU times: user 2min 47s, sys: 506 ms, total: 2min 47s\n",
      "Wall time: 2min 47s\n"
     ]
    }
   ],
   "source": [
    "%%time\n",
    "\n",
    "R_test_coo = sparse.coo_matrix((test_rating, (test_user, test_item)))\n",
    "assert R_test_coo.nnz == nnz_test\n",
    "\n",
    "# 0-based to 1-based\n",
    "outfile_test = open(\"test.txt\", 'w')\n",
    "for i in range(nnz_test):\n",
    "    outfile_test.write(str(test_user[i] + 1) + \" \" + str(test_item[i] + 1) + \" \" + str(test_rating[i]) + \"\\n\")\n",
    "outfile_test.close()"
   ]
  },
  {
   "cell_type": "code",
   "execution_count": 12,
   "metadata": {},
   "outputs": [
    {
     "name": "stdout",
     "output_type": "stream",
     "text": [
      "CPU times: user 34.8 ms, sys: 330 ms, total: 365 ms\n",
      "Wall time: 362 ms\n"
     ]
    }
   ],
   "source": [
    "%%time\n",
    "# for test data, we need COO format to calculate test RMSE\n",
    "\n",
    "R_test_coo.data.astype(np.float32).tofile('R_test_coo.data.bin')\n",
    "R_test_coo.row.tofile('R_test_coo.row.bin')\n",
    "R_test_coo.col.tofile('R_test_coo.col.bin')\n",
    "\n",
    "test_data = np.fromfile('R_test_coo.data.bin', dtype=np.float32)\n",
    "test_row = np.fromfile('R_test_coo.row.bin', dtype=np.int32)\n",
    "test_col = np.fromfile('R_test_coo.col.bin', dtype=np.int32)"
   ]
  },
  {
   "cell_type": "code",
   "execution_count": 13,
   "metadata": {},
   "outputs": [
    {
     "name": "stdout",
     "output_type": "stream",
     "text": [
      "[5 4 4 ... 1 3 2]\n",
      "[      0       0       0 ... 1823178 1823178 1823178]\n",
      "[  7171   8637  21966 ...  81597 116524 118873]\n",
      "\n",
      "[5. 4. 4. ... 1. 3. 2.]\n",
      "[      0       0       0 ... 1823178 1823178 1823178]\n",
      "[  7171   8637  21966 ...  81597 116524 118873]\n",
      "CPU times: user 1.75 ms, sys: 108 µs, total: 1.86 ms\n",
      "Wall time: 1.53 ms\n"
     ]
    }
   ],
   "source": [
    "%%time\n",
    "\n",
    "print(R_test_coo.data)\n",
    "print(R_test_coo.row)\n",
    "print(R_test_coo.col)\n",
    "print(\"\")\n",
    "print(test_data)\n",
    "print(test_row)\n",
    "print(test_col)"
   ]
  },
  {
   "cell_type": "code",
   "execution_count": 14,
   "metadata": {},
   "outputs": [
    {
     "name": "stdout",
     "output_type": "stream",
     "text": [
      "5\n",
      "1823178\n",
      "136735\n",
      "\n",
      "1\n",
      "0\n",
      "0\n",
      "\n",
      "1823179\n",
      "1823179\n",
      "136735\n",
      "136735\n",
      "CPU times: user 5.07 s, sys: 115 ms, total: 5.18 s\n",
      "Wall time: 5.17 s\n"
     ]
    }
   ],
   "source": [
    "%%time\n",
    "\n",
    "print(np.max(R_test_coo.data))\n",
    "print(np.max(R_test_coo.row))\n",
    "print(np.max(R_test_coo.col))\n",
    "print(\"\")\n",
    "print(np.min(R_test_coo.data))\n",
    "print(np.min(R_test_coo.row))\n",
    "print(np.min(R_test_coo.col))\n",
    "print(\"\")\n",
    "print(np.unique(test_user).size)\n",
    "print(np.unique(R_test_coo.row).size)\n",
    "print(np.unique(test_item).size)\n",
    "print(np.unique(R_test_coo.col).size)"
   ]
  },
  {
   "cell_type": "code",
   "execution_count": 15,
   "metadata": {},
   "outputs": [
    {
     "name": "stdout",
     "output_type": "stream",
     "text": [
      "CPU times: user 1h 48min 56s, sys: 44.8 s, total: 1h 49min 41s\n",
      "Wall time: 1h 49min 41s\n"
     ]
    }
   ],
   "source": [
    "%%time\n",
    "\n",
    "R_train_coo = sparse.coo_matrix((train_rating, (train_user, train_item)))\n",
    "assert R_train_coo.nnz == nnz_train\n",
    "\n",
    "# 0-based to 1-based\n",
    "outfile_train = open(\"train.txt\", 'w')\n",
    "for i in range(nnz_train):\n",
    "    outfile_train.write(str(train_user[i] + 1) + \" \" + str(train_item[i] + 1) + \" \" + str(train_rating[i]) + \"\\n\")\n",
    "outfile_train.close()"
   ]
  },
  {
   "cell_type": "code",
   "execution_count": 16,
   "metadata": {},
   "outputs": [
    {
     "name": "stdout",
     "output_type": "stream",
     "text": [
      "CPU times: user 1min 27s, sys: 1min 10s, total: 2min 38s\n",
      "Wall time: 3min 4s\n"
     ]
    }
   ],
   "source": [
    "%%time\n",
    "\n",
    "# for training data, we need COO format to calculate training RMSE\n",
    "# we need CSR format R when calculate X from \\Theta\n",
    "# we need CSC format of R when calculating \\Theta from X\n",
    "R_train_coo.data.astype(np.float32).tofile('R_train_coo.data.bin')\n",
    "R_train_coo.row.tofile('R_train_coo.row.bin')\n",
    "R_train_coo.col.tofile('R_train_coo.col.bin')\n",
    "\n",
    "R_train_csr = R_train_coo.tocsr()\n",
    "R_train_csc = R_train_coo.tocsc()\n",
    "\n",
    "R_train_csr.data.astype(np.float32).tofile('R_train_csr.data.bin')\n",
    "R_train_csr.indices.tofile('R_train_csr.indices.bin')\n",
    "R_train_csr.indptr.tofile('R_train_csr.indptr.bin')\n",
    "R_train_csc.data.astype(np.float32).tofile('R_train_csc.data.bin')\n",
    "R_train_csc.indices.tofile('R_train_csc.indices.bin')\n",
    "R_train_csc.indptr.tofile('R_train_csc.indptr.bin')"
   ]
  },
  {
   "cell_type": "code",
   "execution_count": 17,
   "metadata": {},
   "outputs": [
    {
     "name": "stdout",
     "output_type": "stream",
     "text": [
      "CPU times: user 1.53 s, sys: 38.5 s, total: 40.1 s\n",
      "Wall time: 2min 38s\n"
     ]
    }
   ],
   "source": [
    "%%time\n",
    "\n",
    "train_data = np.fromfile('R_train_coo.data.bin', dtype=np.float32)\n",
    "train_row = np.fromfile('R_train_coo.row.bin', dtype=np.int32)\n",
    "train_col = np.fromfile('R_train_coo.col.bin', dtype=np.int32)\n",
    "\n",
    "train_csc_data = np.fromfile('R_train_csc.data.bin', dtype=np.float32)\n",
    "train_csc_indices = np.fromfile('R_train_csc.indices.bin', dtype=np.int32)\n",
    "train_csc_indptr = np.fromfile('R_train_csc.indptr.bin', dtype=np.int32)\n",
    "\n",
    "train_csr_data = np.fromfile('R_train_csr.data.bin', dtype=np.float32)\n",
    "train_csr_indices = np.fromfile('R_train_csr.indices.bin', dtype=np.int32)\n",
    "train_csr_indptr = np.fromfile('R_train_csr.indptr.bin', dtype=np.int32)"
   ]
  },
  {
   "cell_type": "code",
   "execution_count": 18,
   "metadata": {},
   "outputs": [
    {
     "name": "stdout",
     "output_type": "stream",
     "text": [
      "[5 4 4 ... 1 5 5]\n",
      "[      0       0       0 ... 1823178 1823178 1823178]\n",
      "[   166   2245   3637 ... 125420 128016 135359]\n",
      "\n",
      "[5. 4. 4. ... 1. 5. 5.]\n",
      "[      0       0       0 ... 1823178 1823178 1823178]\n",
      "[   166   2245   3637 ... 125420 128016 135359]\n",
      "\n",
      "[5 4 4 ... 1 5 5]\n",
      "[   166   2245   3637 ... 125420 128016 135359]\n",
      "[        0        34       421 ... 699635967 699640164 699640226]\n",
      "\n",
      "[5. 4. 4. ... 1. 5. 5.]\n",
      "[   166   2245   3637 ... 125420 128016 135359]\n",
      "[        0        34       421 ... 699635967 699640164 699640226]\n",
      "\n",
      "[5 5 3 ... 5 3 5]\n",
      "[    354    1051    2549 ... 1822688 1822731 1822735]\n",
      "[        0      2005      3351 ... 699625566 699630220 699640226]\n",
      "\n",
      "[5. 5. 3. ... 5. 3. 5.]\n",
      "[    354    1051    2549 ... 1822688 1822731 1822735]\n",
      "[        0      2005      3351 ... 699625566 699630220 699640226]\n",
      "CPU times: user 7.8 ms, sys: 3.99 ms, total: 11.8 ms\n",
      "Wall time: 147 ms\n"
     ]
    }
   ],
   "source": [
    "%%time\n",
    "\n",
    "print(R_train_coo.data)\n",
    "print(R_train_coo.row)\n",
    "print(R_train_coo.col)\n",
    "print(\"\")\n",
    "print(train_data)\n",
    "print(train_row)\n",
    "print(train_col)\n",
    "print(\"\")\n",
    "print(R_train_csr.data)\n",
    "print(R_train_csr.indices)\n",
    "print(R_train_csr.indptr)\n",
    "print(\"\")\n",
    "print(train_csr_data)\n",
    "print(train_csr_indices)\n",
    "print(train_csr_indptr)\n",
    "print(\"\")\n",
    "print(R_train_csc.data)\n",
    "print(R_train_csc.indices)\n",
    "print(R_train_csc.indptr)\n",
    "print(\"\")\n",
    "print(train_csc_data)\n",
    "print(train_csc_indices)\n",
    "print(train_csc_indptr)"
   ]
  },
  {
   "cell_type": "code",
   "execution_count": 19,
   "metadata": {},
   "outputs": [
    {
     "name": "stdout",
     "output_type": "stream",
     "text": [
      "5\n",
      "1823178\n",
      "136735\n",
      "\n",
      "1\n",
      "0\n",
      "0\n",
      "\n",
      "1823179\n",
      "1823179\n",
      "136736\n",
      "136736\n",
      "CPU times: user 3min 25s, sys: 56.4 s, total: 4min 21s\n",
      "Wall time: 5min 43s\n"
     ]
    }
   ],
   "source": [
    "%%time\n",
    "\n",
    "print(np.max(R_train_coo.data))\n",
    "print(np.max(R_train_coo.row))\n",
    "print(np.max(R_train_coo.col))\n",
    "print(\"\")\n",
    "print(np.min(R_train_coo.data))\n",
    "print(np.min(R_train_coo.row))\n",
    "print(np.min(R_train_coo.col))\n",
    "print(\"\")\n",
    "print(np.unique(train_user).size)\n",
    "print(np.unique(R_train_coo.row).size)\n",
    "print(np.unique(train_item).size)\n",
    "print(np.unique(R_train_coo.col).size)"
   ]
  },
  {
   "cell_type": "code",
   "execution_count": 20,
   "metadata": {},
   "outputs": [
    {
     "name": "stdout",
     "output_type": "stream",
     "text": [
      "136736\n",
      "[ 2005  1346  1835 ...  1092  4654 10006]\n",
      "\n",
      "929\n",
      "323512\n",
      "\n",
      "5116.722925930259\n",
      "CPU times: user 33.8 s, sys: 35.4 s, total: 1min 9s\n",
      "Wall time: 1min 9s\n"
     ]
    }
   ],
   "source": [
    "%%time\n",
    "#NNZ by cols\n",
    "print(len(R_train_csr.getnnz(axis=0)))\n",
    "print(R_train_csr.getnnz(axis=0))\n",
    "print(\"\")\n",
    "print(np.min(R_train_csr.getnnz(axis=0)))\n",
    "print(np.max(R_train_csr.getnnz(axis=0)))\n",
    "print(\"\")\n",
    "print(np.mean(R_train_csr.getnnz(axis=0)))"
   ]
  },
  {
   "cell_type": "code",
   "execution_count": 21,
   "metadata": {},
   "outputs": [
    {
     "name": "stdout",
     "output_type": "stream",
     "text": [
      "1823179\n",
      "[  34  387  358 ...  445 4197   62]\n",
      "\n",
      "20\n",
      "131523\n",
      "\n",
      "383.7474137207592\n",
      "CPU times: user 27.4 ms, sys: 6.68 ms, total: 34 ms\n",
      "Wall time: 83.4 ms\n"
     ]
    }
   ],
   "source": [
    "%%time\n",
    "#NNZ by rows\n",
    "print(len(R_train_csr.getnnz(axis=1)))\n",
    "print(R_train_csr.getnnz(axis=1))\n",
    "print(\"\")\n",
    "print(np.min(R_train_csr.getnnz(axis=1)))\n",
    "print(np.max(R_train_csr.getnnz(axis=1)))\n",
    "print(\"\")\n",
    "print(np.mean(R_train_csr.getnnz(axis=1)))"
   ]
  },
  {
   "cell_type": "code",
   "execution_count": 22,
   "metadata": {},
   "outputs": [
    {
     "name": "stdout",
     "output_type": "stream",
     "text": [
      "write extra meta file\n",
      "CPU times: user 1.12 ms, sys: 3 µs, total: 1.12 ms\n",
      "Wall time: 970 µs\n"
     ]
    }
   ],
   "source": [
    "%%time\n",
    "\n",
    "print(\"write extra meta file\")\n",
    "\n",
    "outfile_meta = open(\"meta_modified_all\", 'w')\n",
    "outfile_meta.write(str(m) + \" \" + str(n) + \"\\n\" + str(nnz_train) + \"\\n\")\n",
    "outfile_meta.write(\"\"\"R_train_coo.data.bin\n",
    "R_train_coo.row.bin\n",
    "R_train_coo.col.bin\n",
    "R_train_csr.indptr.bin\n",
    "R_train_csr.indices.bin\n",
    "R_train_csr.data.bin\n",
    "R_train_csc.indptr.bin\n",
    "R_train_csc.indices.bin\n",
    "R_train_csc.data.bin\n",
    "\"\"\")\n",
    "outfile_meta.write(str(nnz_test) + \"\\n\")\n",
    "outfile_meta.write(\"\"\"R_test_coo.data.bin\n",
    "R_test_coo.row.bin\n",
    "R_test_coo.col.bin\n",
    "\"\"\")\n",
    "outfile_meta.close()"
   ]
  },
  {
   "cell_type": "code",
   "execution_count": 23,
   "metadata": {},
   "outputs": [
    {
     "name": "stdout",
     "output_type": "stream",
     "text": [
      "writing extra meta file\n",
      "CPU times: user 1.32 ms, sys: 24 µs, total: 1.35 ms\n",
      "Wall time: 915 µs\n"
     ]
    }
   ],
   "source": [
    "%%time\n",
    "\n",
    "print(\"writing extra meta file\")\n",
    "\n",
    "outfile_meta = open(\"meta\", 'w')\n",
    "outfile_meta.write(str(m) + \" \" + str(n) + \"\\n\")\n",
    "outfile_meta.write(str(nnz_train) + \" \" + \"train.txt\\n\")\n",
    "outfile_meta.write(str(nnz_test) + \" \" + \"test.txt\\n\")\n",
    "outfile_meta.close()"
   ]
  }
 ],
 "metadata": {
  "kernelspec": {
   "display_name": "Python 3",
   "language": "python",
   "name": "python3"
  },
  "language_info": {
   "codemirror_mode": {
    "name": "ipython",
    "version": 3
   },
   "file_extension": ".py",
   "mimetype": "text/x-python",
   "name": "python",
   "nbconvert_exporter": "python",
   "pygments_lexer": "ipython3",
   "version": "3.7.3"
  }
 },
 "nbformat": 4,
 "nbformat_minor": 2
}
