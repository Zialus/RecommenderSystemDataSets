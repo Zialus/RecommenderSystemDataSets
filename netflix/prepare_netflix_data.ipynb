{
 "cells": [
  {
   "cell_type": "code",
   "execution_count": null,
   "metadata": {},
   "outputs": [],
   "source": [
    "import numpy as np\n",
    "from scipy import sparse"
   ]
  },
  {
   "cell_type": "code",
   "execution_count": null,
   "metadata": {},
   "outputs": [],
   "source": [
    "train_data_file = \"netflix_mm\"\n",
    "test_data_file = \"netflix_mme\""
   ]
  },
  {
   "cell_type": "code",
   "execution_count": null,
   "metadata": {},
   "outputs": [],
   "source": [
    "# netflix_mm and netflix_mme should look like this\n",
    "'''\n",
    "1 1  3\n",
    "2 1  5\n",
    "3 1  4\n",
    "5 1  3\n",
    "6 1  3\n",
    "7 1  4\n",
    "8 1  3\n",
    "'''\n",
    "\n",
    "m = 480189\n",
    "n = 17770\n",
    "nnz_train = 99072112\n",
    "nnz_test = 1408395\n",
    "\n",
    "print(\"preparing test data\")\n",
    "test_user, test_item, test_rating = np.loadtxt(test_data_file, dtype=np.int32, unpack=True)\n",
    "\n",
    "print(\"preparing training data\")\n",
    "train_user, train_item, train_rating = np.loadtxt(train_data_file, dtype=np.int32, unpack=True)"
   ]
  },
  {
   "cell_type": "code",
   "execution_count": null,
   "metadata": {},
   "outputs": [],
   "source": [
    "print(test_user)\n",
    "print(test_item)\n",
    "print(test_rating)\n",
    "print(\"\")\n",
    "print(np.max(test_user))\n",
    "print(np.max(test_item))\n",
    "print(np.max(test_rating))\n",
    "print(\"\")\n",
    "print(np.min(test_user))\n",
    "print(np.min(test_item))\n",
    "print(np.min(test_rating))\n",
    "print(\"\")\n",
    "print(np.unique(test_user).size)\n",
    "print(np.unique(test_item).size)\n",
    "print(np.unique(test_rating).size)\n",
    "print(\"\")\n",
    "print(test_user.size)\n",
    "\n",
    "assert test_user.size == nnz_test"
   ]
  },
  {
   "cell_type": "code",
   "execution_count": null,
   "metadata": {},
   "outputs": [],
   "source": [
    "print(train_user)\n",
    "print(train_item)\n",
    "print(train_rating)\n",
    "print(\"\")\n",
    "print(np.max(train_user))\n",
    "print(np.max(train_item))\n",
    "print(np.max(train_rating))\n",
    "print(\"\")\n",
    "print(np.min(train_user))\n",
    "print(np.min(train_item))\n",
    "print(np.min(train_rating))\n",
    "print(\"\")\n",
    "print(np.unique(train_user).size)\n",
    "print(np.unique(train_item).size)\n",
    "print(np.unique(train_rating).size)\n",
    "print(\"\")\n",
    "print(train_user.size)\n",
    "\n",
    "assert train_user.size == nnz_train\n",
    "assert np.max(train_user) == m\n",
    "assert np.max(train_item) == n"
   ]
  },
  {
   "cell_type": "code",
   "execution_count": null,
   "metadata": {},
   "outputs": [],
   "source": [
    "# 1-based to 0-based\n",
    "R_test_coo = sparse.coo_matrix((test_rating, (test_user - 1, test_item - 1)))\n",
    "assert R_test_coo.nnz == nnz_test\n",
    "\n",
    "outfile_test = open(\"test.txt\", 'w')\n",
    "for i in range(nnz_test):\n",
    "    outfile_test.write(str(test_user[i] - 1) + \" \" + str(test_item[i] - 1) + \" \" + str(test_rating[i]) + \"\\n\")"
   ]
  },
  {
   "cell_type": "code",
   "execution_count": null,
   "metadata": {},
   "outputs": [],
   "source": [
    "# for test data, we need COO format to calculate test RMSE\n",
    "\n",
    "R_test_coo.data.astype(np.float32).tofile('R_test_coo.data.bin')\n",
    "R_test_coo.row.tofile('R_test_coo.row.bin')\n",
    "R_test_coo.col.tofile('R_test_coo.col.bin')\n",
    "\n",
    "test_data = np.fromfile('R_test_coo.data.bin', dtype=np.float32)\n",
    "test_row = np.fromfile('R_test_coo.row.bin', dtype=np.int32)\n",
    "test_col = np.fromfile('R_test_coo.col.bin', dtype=np.int32)"
   ]
  },
  {
   "cell_type": "code",
   "execution_count": null,
   "metadata": {},
   "outputs": [],
   "source": [
    "print(R_test_coo.data)\n",
    "print(R_test_coo.row)\n",
    "print(R_test_coo.col)\n",
    "print(\"\")\n",
    "print(test_data)\n",
    "print(test_row)\n",
    "print(test_col)"
   ]
  },
  {
   "cell_type": "code",
   "execution_count": null,
   "metadata": {},
   "outputs": [],
   "source": [
    "# 1-based to 0-based\n",
    "R_train_coo = sparse.coo_matrix((train_rating, (train_user - 1, train_item - 1)))\n",
    "assert R_train_coo.nnz == nnz_train\n",
    "\n",
    "outfile_train = open(\"train.txt\", 'w')\n",
    "for i in range(nnz_train):\n",
    "    outfile_train.write(str(train_user[i] - 1) + \" \" + str(train_item[i] - 1) + \" \" + str(train_rating[i]) + \"\\n\")"
   ]
  },
  {
   "cell_type": "code",
   "execution_count": null,
   "metadata": {},
   "outputs": [],
   "source": [
    "# for training data, we need COO format to calculate training RMSE\n",
    "# we need CSR format R when calculate X from \\Theta\n",
    "# we need CSC format of R when calculating \\Theta from X\n",
    "R_train_coo.data.astype(np.float32).tofile('R_train_coo.data.bin')\n",
    "R_train_coo.row.tofile('R_train_coo.row.bin')\n",
    "R_train_coo.col.tofile('R_train_coo.col.bin')\n",
    "\n",
    "train_data = np.fromfile('R_train_coo.data.bin', dtype=np.float32)\n",
    "train_row = np.fromfile('R_train_coo.row.bin', dtype=np.int32)\n",
    "train_col = np.fromfile('R_train_coo.col.bin', dtype=np.int32)\n",
    "\n",
    "R_train_csr = R_train_coo.tocsr()\n",
    "R_train_csc = R_train_coo.tocsc()\n",
    "\n",
    "R_train_csr.data.astype(np.float32).tofile('R_train_csr.data.bin')\n",
    "R_train_csr.indices.tofile('R_train_csr.indices.bin')\n",
    "R_train_csr.indptr.tofile('R_train_csr.indptr.bin')\n",
    "R_train_csc.data.astype(np.float32).tofile('R_train_csc.data.bin')\n",
    "R_train_csc.indices.tofile('R_train_csc.indices.bin')\n",
    "R_train_csc.indptr.tofile('R_train_csc.indptr.bin')\n",
    "\n",
    "train_csc = np.fromfile('R_train_csc.data.bin', dtype=np.float32)\n",
    "train_csr = np.fromfile('R_train_csr.data.bin', dtype=np.float32)"
   ]
  },
  {
   "cell_type": "code",
   "execution_count": null,
   "metadata": {},
   "outputs": [],
   "source": [
    "print(np.max(R_train_coo.data))\n",
    "print(np.max(R_train_coo.row))\n",
    "print(np.max(R_train_coo.col))\n",
    "print(\"\")\n",
    "print(np.min(R_train_coo.data))\n",
    "print(np.min(R_train_coo.row))\n",
    "print(np.min(R_train_coo.col))\n",
    "print(\"\")\n",
    "print(R_train_coo.data)\n",
    "print(R_train_coo.row)\n",
    "print(R_train_coo.col)\n",
    "print(\"\")\n",
    "print(train_data)\n",
    "print(train_row)\n",
    "print(train_col)\n",
    "print(\"\")\n",
    "print(R_train_csr.data)\n",
    "print(R_train_csr.indptr)\n",
    "print(R_train_csr.indices)\n",
    "print(\"\")\n",
    "print(train_csr)\n",
    "print(\"\")\n",
    "print(R_train_csc.data)\n",
    "print(R_train_csc.indptr)\n",
    "print(R_train_csc.indices)\n",
    "print(\"\")\n",
    "print(train_csc)\n",
    "print(\"\")\n",
    "print(np.unique(train_user).size)\n",
    "print(np.unique(R_train_coo.row).size)\n",
    "print(np.unique(train_item).size)\n",
    "print(np.unique(R_train_coo.col).size)"
   ]
  },
  {
   "cell_type": "code",
   "execution_count": null,
   "metadata": {},
   "outputs": [],
   "source": [
    "print(\"write extra meta file\")\n",
    "\n",
    "outfile_meta = open(\"meta_modified_all\", 'w')\n",
    "outfile_meta.write(str(m) + \" \" + str(n) + \"\\n\" + str(nnz_train) + \"\\n\")\n",
    "outfile_meta.write(\"\"\"R_train_coo.data.bin\n",
    "R_train_coo.row.bin\n",
    "R_train_coo.col.bin\n",
    "R_train_csr.indptr.bin\n",
    "R_train_csr.indices.bin\n",
    "R_train_csr.data.bin\n",
    "R_train_csc.indptr.bin\n",
    "R_train_csc.indices.bin\n",
    "R_train_csc.data.bin\n",
    "\"\"\")\n",
    "outfile_meta.write(str(nnz_test) + \" \" + \"test.txt\\n\")"
   ]
  }
 ],
 "metadata": {
  "kernelspec": {
   "display_name": "Python 3",
   "language": "python",
   "name": "python3"
  },
  "language_info": {
   "codemirror_mode": {
    "name": "ipython",
    "version": 3
   },
   "file_extension": ".py",
   "mimetype": "text/x-python",
   "name": "python",
   "nbconvert_exporter": "python",
   "pygments_lexer": "ipython3",
   "version": "3.6.4"
  }
 },
 "nbformat": 4,
 "nbformat_minor": 2
}
